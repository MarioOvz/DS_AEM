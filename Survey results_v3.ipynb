{
 "cells": [
  {
   "cell_type": "markdown",
   "id": "3ae11ecf",
   "metadata": {},
   "source": [
    "# CODIGO"
   ]
  },
  {
   "cell_type": "code",
   "execution_count": 68,
   "id": "df30975d",
   "metadata": {},
   "outputs": [],
   "source": [
    "import pandas as pd\n",
    "import numpy as np"
   ]
  },
  {
   "cell_type": "code",
   "execution_count": 69,
   "id": "190bbe27",
   "metadata": {},
   "outputs": [],
   "source": [
    "df=pd.read_excel('ranking_survey.xlsx')"
   ]
  },
  {
   "cell_type": "code",
   "execution_count": 70,
   "id": "26db1fa4",
   "metadata": {},
   "outputs": [],
   "source": [
    "df.drop('Unnamed: 3', inplace=True, axis=1)"
   ]
  },
  {
   "cell_type": "code",
   "execution_count": 71,
   "id": "36c8a7dc",
   "metadata": {},
   "outputs": [
    {
     "name": "stdout",
     "output_type": "stream",
     "text": [
      "¿Te gustaría contar con la opción de generar rendimiento en tus activos digitales sin la necesidad de solicitar una línea de crédito con tarjeta Crecy?\n",
      "¿Qué valor de *NEAR en MXN *planeas poner como garantía?\n",
      "Prioridad #1\n",
      "Prioridad #2\n",
      "Prioridad #3\n",
      "¿A cuántos meses te gustaría financiar la mayoría de las compras que hagas con tu tarjeta Crecy?\n"
     ]
    }
   ],
   "source": [
    "for item in df.columns:\n",
    "    print(item)"
   ]
  },
  {
   "cell_type": "code",
   "execution_count": 72,
   "id": "1e81e8ef",
   "metadata": {},
   "outputs": [],
   "source": [
    "df=df.dropna().reset_index(drop=True)"
   ]
  },
  {
   "cell_type": "code",
   "execution_count": 73,
   "id": "e934294e",
   "metadata": {},
   "outputs": [],
   "source": [
    "new_name=columns=['Wish yield without CL','NEAR in MXN','P 1','P 2','P 3','Loan lenght']"
   ]
  },
  {
   "cell_type": "code",
   "execution_count": 74,
   "id": "c042fedb",
   "metadata": {},
   "outputs": [],
   "source": [
    "cols={df.columns[k]: new_name[k] for k in range(6)}"
   ]
  },
  {
   "cell_type": "code",
   "execution_count": 75,
   "id": "051cbee4",
   "metadata": {},
   "outputs": [],
   "source": [
    "# Rename columns\n",
    "df.rename(columns=cols, inplace=True)\n",
    "\n",
    "# Float numbers to do stats\n",
    "df['NEAR in MXN']=df['NEAR in MXN'].astype(float)\n",
    "\n",
    "# again, convert string data to numeric\n",
    "df[\"Loan lenght\"]= df[\"Loan lenght\"].str.extract(\"(\\d*\\.?\\d+)\", expand=True).astype(int)"
   ]
  },
  {
   "cell_type": "code",
   "execution_count": 76,
   "id": "54185944",
   "metadata": {},
   "outputs": [],
   "source": [
    "priorities=list(df['P 1'][0:3])\n",
    "new_labels=['Impuestos', 'Liquidez','Rendimiento' ]"
   ]
  },
  {
   "cell_type": "code",
   "execution_count": 77,
   "id": "d87514fc",
   "metadata": {},
   "outputs": [
    {
     "name": "stdout",
     "output_type": "stream",
     "text": [
      "Quiero optimizar mis impuestos\n",
      "Me da oportunidad de acceder a liquidez sin vender mis activos digitales\n",
      "Me gusta que puedo generar rendimientos en mis criptos\n"
     ]
    }
   ],
   "source": [
    "for item in priorities:\n",
    "    print(item)"
   ]
  },
  {
   "cell_type": "code",
   "execution_count": 78,
   "id": "ee56dd9d",
   "metadata": {},
   "outputs": [
    {
     "data": {
      "text/html": [
       "<div>\n",
       "<style scoped>\n",
       "    .dataframe tbody tr th:only-of-type {\n",
       "        vertical-align: middle;\n",
       "    }\n",
       "\n",
       "    .dataframe tbody tr th {\n",
       "        vertical-align: top;\n",
       "    }\n",
       "\n",
       "    .dataframe thead th {\n",
       "        text-align: right;\n",
       "    }\n",
       "</style>\n",
       "<table border=\"1\" class=\"dataframe\">\n",
       "  <thead>\n",
       "    <tr style=\"text-align: right;\">\n",
       "      <th></th>\n",
       "      <th>Wish yield without CL</th>\n",
       "      <th>NEAR in MXN</th>\n",
       "      <th>P 1</th>\n",
       "      <th>P 2</th>\n",
       "      <th>P 3</th>\n",
       "      <th>Loan lenght</th>\n",
       "    </tr>\n",
       "  </thead>\n",
       "  <tbody>\n",
       "    <tr>\n",
       "      <th>0</th>\n",
       "      <td>1</td>\n",
       "      <td>16000.0</td>\n",
       "      <td>Impuestos</td>\n",
       "      <td>Liquidez</td>\n",
       "      <td>Liquidez</td>\n",
       "      <td>1</td>\n",
       "    </tr>\n",
       "    <tr>\n",
       "      <th>1</th>\n",
       "      <td>1</td>\n",
       "      <td>1500.0</td>\n",
       "      <td>Liquidez</td>\n",
       "      <td>Rendimiento</td>\n",
       "      <td>Impuestos</td>\n",
       "      <td>12</td>\n",
       "    </tr>\n",
       "    <tr>\n",
       "      <th>2</th>\n",
       "      <td>1</td>\n",
       "      <td>5000.0</td>\n",
       "      <td>Rendimiento</td>\n",
       "      <td>Liquidez</td>\n",
       "      <td>Impuestos</td>\n",
       "      <td>6</td>\n",
       "    </tr>\n",
       "    <tr>\n",
       "      <th>3</th>\n",
       "      <td>1</td>\n",
       "      <td>150000.0</td>\n",
       "      <td>Impuestos</td>\n",
       "      <td>Rendimiento</td>\n",
       "      <td>Liquidez</td>\n",
       "      <td>12</td>\n",
       "    </tr>\n",
       "    <tr>\n",
       "      <th>4</th>\n",
       "      <td>0</td>\n",
       "      <td>500.0</td>\n",
       "      <td>Impuestos</td>\n",
       "      <td>Rendimiento</td>\n",
       "      <td>Liquidez</td>\n",
       "      <td>12</td>\n",
       "    </tr>\n",
       "    <tr>\n",
       "      <th>...</th>\n",
       "      <td>...</td>\n",
       "      <td>...</td>\n",
       "      <td>...</td>\n",
       "      <td>...</td>\n",
       "      <td>...</td>\n",
       "      <td>...</td>\n",
       "    </tr>\n",
       "    <tr>\n",
       "      <th>121</th>\n",
       "      <td>1</td>\n",
       "      <td>6000.0</td>\n",
       "      <td>Liquidez</td>\n",
       "      <td>Rendimiento</td>\n",
       "      <td>Impuestos</td>\n",
       "      <td>6</td>\n",
       "    </tr>\n",
       "    <tr>\n",
       "      <th>122</th>\n",
       "      <td>1</td>\n",
       "      <td>5000.0</td>\n",
       "      <td>Liquidez</td>\n",
       "      <td>Rendimiento</td>\n",
       "      <td>Impuestos</td>\n",
       "      <td>3</td>\n",
       "    </tr>\n",
       "    <tr>\n",
       "      <th>123</th>\n",
       "      <td>1</td>\n",
       "      <td>50000.0</td>\n",
       "      <td>Liquidez</td>\n",
       "      <td>Impuestos</td>\n",
       "      <td>Rendimiento</td>\n",
       "      <td>3</td>\n",
       "    </tr>\n",
       "    <tr>\n",
       "      <th>124</th>\n",
       "      <td>1</td>\n",
       "      <td>25000.0</td>\n",
       "      <td>Impuestos</td>\n",
       "      <td>Rendimiento</td>\n",
       "      <td>Liquidez</td>\n",
       "      <td>1</td>\n",
       "    </tr>\n",
       "    <tr>\n",
       "      <th>125</th>\n",
       "      <td>1</td>\n",
       "      <td>92300.0</td>\n",
       "      <td>Liquidez</td>\n",
       "      <td>Rendimiento</td>\n",
       "      <td>Impuestos</td>\n",
       "      <td>6</td>\n",
       "    </tr>\n",
       "  </tbody>\n",
       "</table>\n",
       "<p>126 rows × 6 columns</p>\n",
       "</div>"
      ],
      "text/plain": [
       "     Wish yield without CL  NEAR in MXN          P 1          P 2  \\\n",
       "0                        1      16000.0    Impuestos     Liquidez   \n",
       "1                        1       1500.0     Liquidez  Rendimiento   \n",
       "2                        1       5000.0  Rendimiento     Liquidez   \n",
       "3                        1     150000.0    Impuestos  Rendimiento   \n",
       "4                        0        500.0    Impuestos  Rendimiento   \n",
       "..                     ...          ...          ...          ...   \n",
       "121                      1       6000.0     Liquidez  Rendimiento   \n",
       "122                      1       5000.0     Liquidez  Rendimiento   \n",
       "123                      1      50000.0     Liquidez    Impuestos   \n",
       "124                      1      25000.0    Impuestos  Rendimiento   \n",
       "125                      1      92300.0     Liquidez  Rendimiento   \n",
       "\n",
       "             P 3  Loan lenght  \n",
       "0       Liquidez            1  \n",
       "1      Impuestos           12  \n",
       "2      Impuestos            6  \n",
       "3       Liquidez           12  \n",
       "4       Liquidez           12  \n",
       "..           ...          ...  \n",
       "121    Impuestos            6  \n",
       "122    Impuestos            3  \n",
       "123  Rendimiento            3  \n",
       "124     Liquidez            1  \n",
       "125    Impuestos            6  \n",
       "\n",
       "[126 rows x 6 columns]"
      ]
     },
     "execution_count": 78,
     "metadata": {},
     "output_type": "execute_result"
    }
   ],
   "source": [
    "dct={i: j for i, j in zip(priorities, new_labels)}\n",
    "df.replace(dct, inplace=True)\n",
    "df"
   ]
  },
  {
   "cell_type": "code",
   "execution_count": 79,
   "id": "3167b02e",
   "metadata": {},
   "outputs": [
    {
     "data": {
      "image/png": "[encoded data removed]",
      "text/plain": [
       "<Figure size 500x600 with 1 Axes>"
      ]
     },
     "metadata": {},
     "output_type": "display_data"
    }
   ],
   "source": [
    "import matplotlib.pyplot as plt\n",
    "plt.figure(figsize=(5,6))\n",
    "plt.title('Depósitos en MXN')\n",
    "plt.grid()\n",
    "plt.boxplot(df['NEAR in MXN']);"
   ]
  },
  {
   "cell_type": "code",
   "execution_count": 80,
   "id": "2594ad12",
   "metadata": {},
   "outputs": [
    {
     "data": {
      "image/png": "[encoded data removed]",
      "text/plain": [
       "<Figure size 1500x800 with 1 Axes>"
      ]
     },
     "metadata": {},
     "output_type": "display_data"
    }
   ],
   "source": [
    "import matplotlib.pyplot as plt\n",
    "\n",
    "data =df['Loan lenght']\n",
    "plt.figure(figsize=(15,8))\n",
    "plt.hist(data, bins=range(min(data), max(data) + 2), rwidth=0.8, align='left')\n",
    "plt.xticks(range(min(data), max(data) + 1))\n",
    "plt.xlabel('Meses')\n",
    "plt.ylabel('Frecuencia')\n",
    "plt.title('Duración del crédito')\n",
    "for i, patch in enumerate(patches):\n",
    "    if n[i] == 0:\n",
    "        plt.text(patch.get_x() + patch.get_width()/2, patch.get_height(), \"\", ha='center', va='bottom')\n",
    "    else:\n",
    "        plt.text(patch.get_x() + patch.get_width()/2, patch.get_height(), str(int(n[i])), ha='center', va='bottom')\n",
    "plt.show()"
   ]
  },
  {
   "cell_type": "code",
   "execution_count": 81,
   "id": "18e035ff",
   "metadata": {},
   "outputs": [
    {
     "data": {
      "image/png": "[encoded data removed]",
      "text/plain": [
       "<Figure size 1500x800 with 1 Axes>"
      ]
     },
     "metadata": {},
     "output_type": "display_data"
    }
   ],
   "source": [
    "import matplotlib.pyplot as plt\n",
    "\n",
    "data=df['NEAR in MXN']/1000\n",
    "plt.figure(figsize=(15,8))\n",
    "n, bins, patches = plt.hist(data, bins=15, alpha=0.75)\n",
    "for i, patch in enumerate(patches):\n",
    "    if n[i] == 0:\n",
    "        plt.text(patch.get_x() + patch.get_width()/2, patch.get_height(), \"\", ha='center', va='bottom')\n",
    "    else:\n",
    "        plt.text(patch.get_x() + patch.get_width()/2, patch.get_height(), str(int(n[i])), ha='center', va='bottom')\n",
    "plt.xlabel('MILES DE MXN', fontsize = 10)\n",
    "plt.ylabel('CONTEO', fontsize = 10)\n",
    "plt.title('DEPOSITOS EN MILES DE MXN', fontsize=15)\n",
    "plt.xticks(bins, ['%.0f' % b for b in bins])\n",
    "\n",
    "plt.show()"
   ]
  },
  {
   "cell_type": "code",
   "execution_count": 82,
   "id": "197583bc",
   "metadata": {},
   "outputs": [],
   "source": [
    "def ctr_update(key,val):\n",
    "    counter[key]+=val\n",
    "    return None"
   ]
  },
  {
   "cell_type": "code",
   "execution_count": 83,
   "id": "26171af8",
   "metadata": {},
   "outputs": [
    {
     "data": {
      "text/plain": [
       "{'Impuestos': 0, 'Liquidez': 0, 'Rendimiento': 0}"
      ]
     },
     "execution_count": 83,
     "metadata": {},
     "output_type": "execute_result"
    }
   ],
   "source": [
    "counter={item:0 for item in new_labels}\n",
    "counter"
   ]
  },
  {
   "cell_type": "code",
   "execution_count": 84,
   "id": "4860ce8a",
   "metadata": {},
   "outputs": [],
   "source": [
    "for k in range(len(df)):\n",
    "    ctr_update(df.iloc[k,2],1)\n"
   ]
  },
  {
   "cell_type": "code",
   "execution_count": 85,
   "id": "09ae80ea",
   "metadata": {},
   "outputs": [
    {
     "data": {
      "image/png": "[encoded data removed]",
      "text/plain": [
       "<Figure size 1500x800 with 1 Axes>"
      ]
     },
     "metadata": {},
     "output_type": "display_data"
    }
   ],
   "source": [
    "import matplotlib.pyplot as plt\n",
    "\n",
    "colors = ['#ff9999','#66b3ff','#ffcc99']\n",
    "plt.figure(figsize=(15,8))\n",
    "plt.pie(counter.values(), labels=counter.keys(),colors=colors,\n",
    "autopct='%1.2f%%', shadow=False, startangle=180)\n",
    "plt.title('Prioridad #1')\n",
    "\n",
    "plt.show()"
   ]
  },
  {
   "cell_type": "markdown",
   "id": "baa461c4",
   "metadata": {},
   "source": [
    "# CUSTOMER CLUSTERING BY LOAN LENGHT"
   ]
  },
  {
   "cell_type": "markdown",
   "id": "6334f19b",
   "metadata": {},
   "source": [
    "In this section we will cluster according to the duration of the loans."
   ]
  },
  {
   "cell_type": "code",
   "execution_count": 90,
   "id": "3654d984",
   "metadata": {},
   "outputs": [
    {
     "data": {
      "text/html": [
       "<div>\n",
       "<style scoped>\n",
       "    .dataframe tbody tr th:only-of-type {\n",
       "        vertical-align: middle;\n",
       "    }\n",
       "\n",
       "    .dataframe tbody tr th {\n",
       "        vertical-align: top;\n",
       "    }\n",
       "\n",
       "    .dataframe thead tr th {\n",
       "        text-align: left;\n",
       "    }\n",
       "\n",
       "    .dataframe thead tr:last-of-type th {\n",
       "        text-align: right;\n",
       "    }\n",
       "</style>\n",
       "<table border=\"1\" class=\"dataframe\">\n",
       "  <thead>\n",
       "    <tr>\n",
       "      <th></th>\n",
       "      <th colspan=\"8\" halign=\"left\">NEAR in MXN</th>\n",
       "    </tr>\n",
       "    <tr>\n",
       "      <th></th>\n",
       "      <th>count</th>\n",
       "      <th>mean</th>\n",
       "      <th>std</th>\n",
       "      <th>min</th>\n",
       "      <th>25%</th>\n",
       "      <th>50%</th>\n",
       "      <th>75%</th>\n",
       "      <th>max</th>\n",
       "    </tr>\n",
       "    <tr>\n",
       "      <th>Loan lenght</th>\n",
       "      <th></th>\n",
       "      <th></th>\n",
       "      <th></th>\n",
       "      <th></th>\n",
       "      <th></th>\n",
       "      <th></th>\n",
       "      <th></th>\n",
       "      <th></th>\n",
       "    </tr>\n",
       "  </thead>\n",
       "  <tbody>\n",
       "    <tr>\n",
       "      <th>1</th>\n",
       "      <td>16.0</td>\n",
       "      <td>13906.250000</td>\n",
       "      <td>12318.304469</td>\n",
       "      <td>2000.0</td>\n",
       "      <td>5000.0</td>\n",
       "      <td>10000.0</td>\n",
       "      <td>20000.0</td>\n",
       "      <td>50000.0</td>\n",
       "    </tr>\n",
       "    <tr>\n",
       "      <th>3</th>\n",
       "      <td>25.0</td>\n",
       "      <td>11451.600000</td>\n",
       "      <td>23056.131583</td>\n",
       "      <td>5.0</td>\n",
       "      <td>500.0</td>\n",
       "      <td>2000.0</td>\n",
       "      <td>10000.0</td>\n",
       "      <td>100000.0</td>\n",
       "    </tr>\n",
       "    <tr>\n",
       "      <th>6</th>\n",
       "      <td>43.0</td>\n",
       "      <td>9564.883721</td>\n",
       "      <td>17672.039575</td>\n",
       "      <td>50.0</td>\n",
       "      <td>1000.0</td>\n",
       "      <td>3000.0</td>\n",
       "      <td>8000.0</td>\n",
       "      <td>92300.0</td>\n",
       "    </tr>\n",
       "    <tr>\n",
       "      <th>9</th>\n",
       "      <td>8.0</td>\n",
       "      <td>22635.000000</td>\n",
       "      <td>35141.063892</td>\n",
       "      <td>80.0</td>\n",
       "      <td>3000.0</td>\n",
       "      <td>7500.0</td>\n",
       "      <td>20000.0</td>\n",
       "      <td>100000.0</td>\n",
       "    </tr>\n",
       "    <tr>\n",
       "      <th>12</th>\n",
       "      <td>34.0</td>\n",
       "      <td>17085.882353</td>\n",
       "      <td>37030.822798</td>\n",
       "      <td>0.0</td>\n",
       "      <td>625.0</td>\n",
       "      <td>1585.0</td>\n",
       "      <td>13750.0</td>\n",
       "      <td>150000.0</td>\n",
       "    </tr>\n",
       "  </tbody>\n",
       "</table>\n",
       "</div>"
      ],
      "text/plain": [
       "            NEAR in MXN                                                       \\\n",
       "                  count          mean           std     min     25%      50%   \n",
       "Loan lenght                                                                    \n",
       "1                  16.0  13906.250000  12318.304469  2000.0  5000.0  10000.0   \n",
       "3                  25.0  11451.600000  23056.131583     5.0   500.0   2000.0   \n",
       "6                  43.0   9564.883721  17672.039575    50.0  1000.0   3000.0   \n",
       "9                   8.0  22635.000000  35141.063892    80.0  3000.0   7500.0   \n",
       "12                 34.0  17085.882353  37030.822798     0.0   625.0   1585.0   \n",
       "\n",
       "                                \n",
       "                 75%       max  \n",
       "Loan lenght                     \n",
       "1            20000.0   50000.0  \n",
       "3            10000.0  100000.0  \n",
       "6             8000.0   92300.0  \n",
       "9            20000.0  100000.0  \n",
       "12           13750.0  150000.0  "
      ]
     },
     "execution_count": 90,
     "metadata": {},
     "output_type": "execute_result"
    }
   ],
   "source": [
    "df.drop('Wish yield without CL', axis=1).groupby('Loan lenght').describe()"
   ]
  },
  {
   "cell_type": "code",
   "execution_count": 91,
   "id": "3920dccf",
   "metadata": {},
   "outputs": [
    {
     "data": {
      "text/html": [
       "<div>\n",
       "<style scoped>\n",
       "    .dataframe tbody tr th:only-of-type {\n",
       "        vertical-align: middle;\n",
       "    }\n",
       "\n",
       "    .dataframe tbody tr th {\n",
       "        vertical-align: top;\n",
       "    }\n",
       "\n",
       "    .dataframe thead th {\n",
       "        text-align: right;\n",
       "    }\n",
       "</style>\n",
       "<table border=\"1\" class=\"dataframe\">\n",
       "  <thead>\n",
       "    <tr style=\"text-align: right;\">\n",
       "      <th></th>\n",
       "      <th>P 1</th>\n",
       "    </tr>\n",
       "    <tr>\n",
       "      <th>Loan lenght</th>\n",
       "      <th></th>\n",
       "    </tr>\n",
       "  </thead>\n",
       "  <tbody>\n",
       "    <tr>\n",
       "      <th>1</th>\n",
       "      <td>Liquidez</td>\n",
       "    </tr>\n",
       "    <tr>\n",
       "      <th>3</th>\n",
       "      <td>Liquidez</td>\n",
       "    </tr>\n",
       "    <tr>\n",
       "      <th>6</th>\n",
       "      <td>[Liquidez, Rendimiento]</td>\n",
       "    </tr>\n",
       "    <tr>\n",
       "      <th>9</th>\n",
       "      <td>Rendimiento</td>\n",
       "    </tr>\n",
       "    <tr>\n",
       "      <th>12</th>\n",
       "      <td>Liquidez</td>\n",
       "    </tr>\n",
       "  </tbody>\n",
       "</table>\n",
       "</div>"
      ],
      "text/plain": [
       "                                 P 1\n",
       "Loan lenght                         \n",
       "1                           Liquidez\n",
       "3                           Liquidez\n",
       "6            [Liquidez, Rendimiento]\n",
       "9                        Rendimiento\n",
       "12                          Liquidez"
      ]
     },
     "execution_count": 91,
     "metadata": {},
     "output_type": "execute_result"
    }
   ],
   "source": [
    "df.groupby('Loan lenght').agg(pd.Series.mode).drop(['Wish yield without CL', 'NEAR in MXN', 'P 2', 'P 3'], axis=1)"
   ]
  },
  {
   "cell_type": "markdown",
   "id": "fa66ebbe",
   "metadata": {},
   "source": [
    "## 1 month"
   ]
  },
  {
   "cell_type": "code",
   "execution_count": 125,
   "id": "c70c6865",
   "metadata": {},
   "outputs": [],
   "source": [
    "One_month=df[df['Loan lenght']==1]"
   ]
  },
  {
   "cell_type": "code",
   "execution_count": 126,
   "id": "55719ae4",
   "metadata": {},
   "outputs": [
    {
     "data": {
      "text/html": [
       "<div>\n",
       "<style scoped>\n",
       "    .dataframe tbody tr th:only-of-type {\n",
       "        vertical-align: middle;\n",
       "    }\n",
       "\n",
       "    .dataframe tbody tr th {\n",
       "        vertical-align: top;\n",
       "    }\n",
       "\n",
       "    .dataframe thead th {\n",
       "        text-align: right;\n",
       "    }\n",
       "</style>\n",
       "<table border=\"1\" class=\"dataframe\">\n",
       "  <thead>\n",
       "    <tr style=\"text-align: right;\">\n",
       "      <th></th>\n",
       "      <th>Wish yield without CL</th>\n",
       "      <th>NEAR in MXN</th>\n",
       "      <th>Loan lenght</th>\n",
       "    </tr>\n",
       "  </thead>\n",
       "  <tbody>\n",
       "    <tr>\n",
       "      <th>count</th>\n",
       "      <td>16.000000</td>\n",
       "      <td>16.000000</td>\n",
       "      <td>16.0</td>\n",
       "    </tr>\n",
       "    <tr>\n",
       "      <th>mean</th>\n",
       "      <td>0.812500</td>\n",
       "      <td>13906.250000</td>\n",
       "      <td>1.0</td>\n",
       "    </tr>\n",
       "    <tr>\n",
       "      <th>std</th>\n",
       "      <td>0.403113</td>\n",
       "      <td>12318.304469</td>\n",
       "      <td>0.0</td>\n",
       "    </tr>\n",
       "    <tr>\n",
       "      <th>min</th>\n",
       "      <td>0.000000</td>\n",
       "      <td>2000.000000</td>\n",
       "      <td>1.0</td>\n",
       "    </tr>\n",
       "    <tr>\n",
       "      <th>25%</th>\n",
       "      <td>1.000000</td>\n",
       "      <td>5000.000000</td>\n",
       "      <td>1.0</td>\n",
       "    </tr>\n",
       "    <tr>\n",
       "      <th>50%</th>\n",
       "      <td>1.000000</td>\n",
       "      <td>10000.000000</td>\n",
       "      <td>1.0</td>\n",
       "    </tr>\n",
       "    <tr>\n",
       "      <th>75%</th>\n",
       "      <td>1.000000</td>\n",
       "      <td>20000.000000</td>\n",
       "      <td>1.0</td>\n",
       "    </tr>\n",
       "    <tr>\n",
       "      <th>max</th>\n",
       "      <td>1.000000</td>\n",
       "      <td>50000.000000</td>\n",
       "      <td>1.0</td>\n",
       "    </tr>\n",
       "  </tbody>\n",
       "</table>\n",
       "</div>"
      ],
      "text/plain": [
       "       Wish yield without CL   NEAR in MXN  Loan lenght\n",
       "count              16.000000     16.000000         16.0\n",
       "mean                0.812500  13906.250000          1.0\n",
       "std                 0.403113  12318.304469          0.0\n",
       "min                 0.000000   2000.000000          1.0\n",
       "25%                 1.000000   5000.000000          1.0\n",
       "50%                 1.000000  10000.000000          1.0\n",
       "75%                 1.000000  20000.000000          1.0\n",
       "max                 1.000000  50000.000000          1.0"
      ]
     },
     "execution_count": 126,
     "metadata": {},
     "output_type": "execute_result"
    }
   ],
   "source": [
    "One_month.describe()"
   ]
  },
  {
   "cell_type": "code",
   "execution_count": 127,
   "id": "b7f6a172",
   "metadata": {},
   "outputs": [
    {
     "data": {
      "text/plain": [
       "{'Impuestos': 0, 'Liquidez': 0, 'Rendimiento': 0}"
      ]
     },
     "execution_count": 127,
     "metadata": {},
     "output_type": "execute_result"
    }
   ],
   "source": [
    "counter={item:0 for item in new_labels}\n",
    "counter"
   ]
  },
  {
   "cell_type": "code",
   "execution_count": 128,
   "id": "cfed4257",
   "metadata": {},
   "outputs": [],
   "source": [
    "for k in range(len(One_month)):\n",
    "    ctr_update(df.iloc[k,2],1)"
   ]
  },
  {
   "cell_type": "code",
   "execution_count": 129,
   "id": "d60b235d",
   "metadata": {},
   "outputs": [
    {
     "data": {
      "text/plain": [
       "{'Impuestos': 5, 'Liquidez': 7, 'Rendimiento': 4}"
      ]
     },
     "execution_count": 129,
     "metadata": {},
     "output_type": "execute_result"
    }
   ],
   "source": [
    "counter"
   ]
  },
  {
   "cell_type": "code",
   "execution_count": 130,
   "id": "29dfcc70",
   "metadata": {},
   "outputs": [
    {
     "data": {
      "image/png": "[encoded data removed]",
      "text/plain": [
       "<Figure size 640x480 with 1 Axes>"
      ]
     },
     "metadata": {},
     "output_type": "display_data"
    }
   ],
   "source": [
    "import matplotlib.pyplot as plt\n",
    "\n",
    "colors = ['#ff9999','#66b3ff','#ffcc99']\n",
    "plt.pie(counter.values(), labels=counter.keys(),colors=colors,\n",
    "autopct='%1.2f%%', shadow=False, startangle=180)\n",
    "plt.title('Prioridad #1 - 1 mes')\n",
    "plt.show()"
   ]
  },
  {
   "cell_type": "markdown",
   "id": "4c37dc01",
   "metadata": {},
   "source": [
    "## 3 months"
   ]
  },
  {
   "cell_type": "code",
   "execution_count": 131,
   "id": "efa00f49",
   "metadata": {},
   "outputs": [],
   "source": [
    "Three_mths=df[df['Loan lenght']==3]"
   ]
  },
  {
   "cell_type": "code",
   "execution_count": 132,
   "id": "0d999426",
   "metadata": {},
   "outputs": [
    {
     "data": {
      "text/html": [
       "<div>\n",
       "<style scoped>\n",
       "    .dataframe tbody tr th:only-of-type {\n",
       "        vertical-align: middle;\n",
       "    }\n",
       "\n",
       "    .dataframe tbody tr th {\n",
       "        vertical-align: top;\n",
       "    }\n",
       "\n",
       "    .dataframe thead th {\n",
       "        text-align: right;\n",
       "    }\n",
       "</style>\n",
       "<table border=\"1\" class=\"dataframe\">\n",
       "  <thead>\n",
       "    <tr style=\"text-align: right;\">\n",
       "      <th></th>\n",
       "      <th>Wish yield without CL</th>\n",
       "      <th>NEAR in MXN</th>\n",
       "      <th>Loan lenght</th>\n",
       "    </tr>\n",
       "  </thead>\n",
       "  <tbody>\n",
       "    <tr>\n",
       "      <th>count</th>\n",
       "      <td>25.000000</td>\n",
       "      <td>25.000000</td>\n",
       "      <td>25.0</td>\n",
       "    </tr>\n",
       "    <tr>\n",
       "      <th>mean</th>\n",
       "      <td>0.920000</td>\n",
       "      <td>11451.600000</td>\n",
       "      <td>3.0</td>\n",
       "    </tr>\n",
       "    <tr>\n",
       "      <th>std</th>\n",
       "      <td>0.276887</td>\n",
       "      <td>23056.131583</td>\n",
       "      <td>0.0</td>\n",
       "    </tr>\n",
       "    <tr>\n",
       "      <th>min</th>\n",
       "      <td>0.000000</td>\n",
       "      <td>5.000000</td>\n",
       "      <td>3.0</td>\n",
       "    </tr>\n",
       "    <tr>\n",
       "      <th>25%</th>\n",
       "      <td>1.000000</td>\n",
       "      <td>500.000000</td>\n",
       "      <td>3.0</td>\n",
       "    </tr>\n",
       "    <tr>\n",
       "      <th>50%</th>\n",
       "      <td>1.000000</td>\n",
       "      <td>2000.000000</td>\n",
       "      <td>3.0</td>\n",
       "    </tr>\n",
       "    <tr>\n",
       "      <th>75%</th>\n",
       "      <td>1.000000</td>\n",
       "      <td>10000.000000</td>\n",
       "      <td>3.0</td>\n",
       "    </tr>\n",
       "    <tr>\n",
       "      <th>max</th>\n",
       "      <td>1.000000</td>\n",
       "      <td>100000.000000</td>\n",
       "      <td>3.0</td>\n",
       "    </tr>\n",
       "  </tbody>\n",
       "</table>\n",
       "</div>"
      ],
      "text/plain": [
       "       Wish yield without CL    NEAR in MXN  Loan lenght\n",
       "count              25.000000      25.000000         25.0\n",
       "mean                0.920000   11451.600000          3.0\n",
       "std                 0.276887   23056.131583          0.0\n",
       "min                 0.000000       5.000000          3.0\n",
       "25%                 1.000000     500.000000          3.0\n",
       "50%                 1.000000    2000.000000          3.0\n",
       "75%                 1.000000   10000.000000          3.0\n",
       "max                 1.000000  100000.000000          3.0"
      ]
     },
     "execution_count": 132,
     "metadata": {},
     "output_type": "execute_result"
    }
   ],
   "source": [
    "Three_mths.describe()"
   ]
  },
  {
   "cell_type": "code",
   "execution_count": 133,
   "id": "2885ec03",
   "metadata": {},
   "outputs": [
    {
     "data": {
      "text/plain": [
       "{'Impuestos': 0, 'Liquidez': 0, 'Rendimiento': 0}"
      ]
     },
     "execution_count": 133,
     "metadata": {},
     "output_type": "execute_result"
    }
   ],
   "source": [
    "counter={item:0 for item in new_labels}\n",
    "counter"
   ]
  },
  {
   "cell_type": "code",
   "execution_count": 134,
   "id": "38e60ccd",
   "metadata": {},
   "outputs": [],
   "source": [
    "for k in range(len(Three_mths)):\n",
    "    ctr_update(df.iloc[k,2],1)"
   ]
  },
  {
   "cell_type": "code",
   "execution_count": 135,
   "id": "c7ad4fd5",
   "metadata": {},
   "outputs": [
    {
     "data": {
      "text/plain": [
       "{'Impuestos': 8, 'Liquidez': 10, 'Rendimiento': 7}"
      ]
     },
     "execution_count": 135,
     "metadata": {},
     "output_type": "execute_result"
    }
   ],
   "source": [
    "counter"
   ]
  },
  {
   "cell_type": "code",
   "execution_count": 136,
   "id": "90137b74",
   "metadata": {},
   "outputs": [
    {
     "data": {
      "image/png": "[encoded data removed]",
      "text/plain": [
       "<Figure size 640x480 with 1 Axes>"
      ]
     },
     "metadata": {},
     "output_type": "display_data"
    }
   ],
   "source": [
    "import matplotlib.pyplot as plt\n",
    "\n",
    "colors = ['#ff9999','#66b3ff','#ffcc99']\n",
    "plt.pie(counter.values(), labels=counter.keys(),colors=colors,\n",
    "autopct='%1.2f%%', shadow=False, startangle=180)\n",
    "plt.title('Prioridad #1 - 3 meses')\n",
    "plt.show()"
   ]
  },
  {
   "cell_type": "markdown",
   "id": "c59dabb8",
   "metadata": {},
   "source": [
    "## 6 months"
   ]
  },
  {
   "cell_type": "code",
   "execution_count": 137,
   "id": "f8a73200",
   "metadata": {},
   "outputs": [],
   "source": [
    "Six_mths=df[df['Loan lenght']==6]"
   ]
  },
  {
   "cell_type": "code",
   "execution_count": 138,
   "id": "420dc594",
   "metadata": {},
   "outputs": [
    {
     "data": {
      "text/html": [
       "<div>\n",
       "<style scoped>\n",
       "    .dataframe tbody tr th:only-of-type {\n",
       "        vertical-align: middle;\n",
       "    }\n",
       "\n",
       "    .dataframe tbody tr th {\n",
       "        vertical-align: top;\n",
       "    }\n",
       "\n",
       "    .dataframe thead th {\n",
       "        text-align: right;\n",
       "    }\n",
       "</style>\n",
       "<table border=\"1\" class=\"dataframe\">\n",
       "  <thead>\n",
       "    <tr style=\"text-align: right;\">\n",
       "      <th></th>\n",
       "      <th>Wish yield without CL</th>\n",
       "      <th>NEAR in MXN</th>\n",
       "      <th>Loan lenght</th>\n",
       "    </tr>\n",
       "  </thead>\n",
       "  <tbody>\n",
       "    <tr>\n",
       "      <th>count</th>\n",
       "      <td>43.000000</td>\n",
       "      <td>43.000000</td>\n",
       "      <td>43.0</td>\n",
       "    </tr>\n",
       "    <tr>\n",
       "      <th>mean</th>\n",
       "      <td>0.930233</td>\n",
       "      <td>9564.883721</td>\n",
       "      <td>6.0</td>\n",
       "    </tr>\n",
       "    <tr>\n",
       "      <th>std</th>\n",
       "      <td>0.257770</td>\n",
       "      <td>17672.039575</td>\n",
       "      <td>0.0</td>\n",
       "    </tr>\n",
       "    <tr>\n",
       "      <th>min</th>\n",
       "      <td>0.000000</td>\n",
       "      <td>50.000000</td>\n",
       "      <td>6.0</td>\n",
       "    </tr>\n",
       "    <tr>\n",
       "      <th>25%</th>\n",
       "      <td>1.000000</td>\n",
       "      <td>1000.000000</td>\n",
       "      <td>6.0</td>\n",
       "    </tr>\n",
       "    <tr>\n",
       "      <th>50%</th>\n",
       "      <td>1.000000</td>\n",
       "      <td>3000.000000</td>\n",
       "      <td>6.0</td>\n",
       "    </tr>\n",
       "    <tr>\n",
       "      <th>75%</th>\n",
       "      <td>1.000000</td>\n",
       "      <td>8000.000000</td>\n",
       "      <td>6.0</td>\n",
       "    </tr>\n",
       "    <tr>\n",
       "      <th>max</th>\n",
       "      <td>1.000000</td>\n",
       "      <td>92300.000000</td>\n",
       "      <td>6.0</td>\n",
       "    </tr>\n",
       "  </tbody>\n",
       "</table>\n",
       "</div>"
      ],
      "text/plain": [
       "       Wish yield without CL   NEAR in MXN  Loan lenght\n",
       "count              43.000000     43.000000         43.0\n",
       "mean                0.930233   9564.883721          6.0\n",
       "std                 0.257770  17672.039575          0.0\n",
       "min                 0.000000     50.000000          6.0\n",
       "25%                 1.000000   1000.000000          6.0\n",
       "50%                 1.000000   3000.000000          6.0\n",
       "75%                 1.000000   8000.000000          6.0\n",
       "max                 1.000000  92300.000000          6.0"
      ]
     },
     "execution_count": 138,
     "metadata": {},
     "output_type": "execute_result"
    }
   ],
   "source": [
    "Six_mths.describe()"
   ]
  },
  {
   "cell_type": "code",
   "execution_count": 139,
   "id": "ca770657",
   "metadata": {},
   "outputs": [
    {
     "data": {
      "text/plain": [
       "{'Impuestos': 0, 'Liquidez': 0, 'Rendimiento': 0}"
      ]
     },
     "execution_count": 139,
     "metadata": {},
     "output_type": "execute_result"
    }
   ],
   "source": [
    "counter={item:0 for item in new_labels}\n",
    "counter"
   ]
  },
  {
   "cell_type": "code",
   "execution_count": 140,
   "id": "790eb023",
   "metadata": {},
   "outputs": [],
   "source": [
    "for k in range(len(Six_mths)):\n",
    "    ctr_update(df.iloc[k,2],1)"
   ]
  },
  {
   "cell_type": "code",
   "execution_count": 141,
   "id": "e17ee9ee",
   "metadata": {},
   "outputs": [
    {
     "data": {
      "text/plain": [
       "{'Impuestos': 11, 'Liquidez': 19, 'Rendimiento': 13}"
      ]
     },
     "execution_count": 141,
     "metadata": {},
     "output_type": "execute_result"
    }
   ],
   "source": [
    "counter"
   ]
  },
  {
   "cell_type": "code",
   "execution_count": 142,
   "id": "0bde6b77",
   "metadata": {},
   "outputs": [
    {
     "data": {
      "image/png": "[encoded data removed]",
      "text/plain": [
       "<Figure size 640x480 with 1 Axes>"
      ]
     },
     "metadata": {},
     "output_type": "display_data"
    }
   ],
   "source": [
    "import matplotlib.pyplot as plt\n",
    "\n",
    "colors = ['#ff9999','#66b3ff','#ffcc99']\n",
    "plt.pie(counter.values(), labels=counter.keys(),colors=colors,\n",
    "autopct='%1.2f%%', shadow=False, startangle=180)\n",
    "plt.title('Prioridad #1 - 6 meses')\n",
    "plt.show()"
   ]
  },
  {
   "cell_type": "markdown",
   "id": "0e6e6507",
   "metadata": {},
   "source": [
    "## 12 months"
   ]
  },
  {
   "cell_type": "code",
   "execution_count": 143,
   "id": "ecb74c75",
   "metadata": {},
   "outputs": [],
   "source": [
    "Tlv_mths=df[df['Loan lenght']==12]"
   ]
  },
  {
   "cell_type": "code",
   "execution_count": 144,
   "id": "b35652c2",
   "metadata": {},
   "outputs": [
    {
     "data": {
      "text/html": [
       "<div>\n",
       "<style scoped>\n",
       "    .dataframe tbody tr th:only-of-type {\n",
       "        vertical-align: middle;\n",
       "    }\n",
       "\n",
       "    .dataframe tbody tr th {\n",
       "        vertical-align: top;\n",
       "    }\n",
       "\n",
       "    .dataframe thead th {\n",
       "        text-align: right;\n",
       "    }\n",
       "</style>\n",
       "<table border=\"1\" class=\"dataframe\">\n",
       "  <thead>\n",
       "    <tr style=\"text-align: right;\">\n",
       "      <th></th>\n",
       "      <th>Wish yield without CL</th>\n",
       "      <th>NEAR in MXN</th>\n",
       "      <th>Loan lenght</th>\n",
       "    </tr>\n",
       "  </thead>\n",
       "  <tbody>\n",
       "    <tr>\n",
       "      <th>count</th>\n",
       "      <td>34.000000</td>\n",
       "      <td>34.000000</td>\n",
       "      <td>34.0</td>\n",
       "    </tr>\n",
       "    <tr>\n",
       "      <th>mean</th>\n",
       "      <td>0.823529</td>\n",
       "      <td>17085.882353</td>\n",
       "      <td>12.0</td>\n",
       "    </tr>\n",
       "    <tr>\n",
       "      <th>std</th>\n",
       "      <td>0.386953</td>\n",
       "      <td>37030.822798</td>\n",
       "      <td>0.0</td>\n",
       "    </tr>\n",
       "    <tr>\n",
       "      <th>min</th>\n",
       "      <td>0.000000</td>\n",
       "      <td>0.000000</td>\n",
       "      <td>12.0</td>\n",
       "    </tr>\n",
       "    <tr>\n",
       "      <th>25%</th>\n",
       "      <td>1.000000</td>\n",
       "      <td>625.000000</td>\n",
       "      <td>12.0</td>\n",
       "    </tr>\n",
       "    <tr>\n",
       "      <th>50%</th>\n",
       "      <td>1.000000</td>\n",
       "      <td>1585.000000</td>\n",
       "      <td>12.0</td>\n",
       "    </tr>\n",
       "    <tr>\n",
       "      <th>75%</th>\n",
       "      <td>1.000000</td>\n",
       "      <td>13750.000000</td>\n",
       "      <td>12.0</td>\n",
       "    </tr>\n",
       "    <tr>\n",
       "      <th>max</th>\n",
       "      <td>1.000000</td>\n",
       "      <td>150000.000000</td>\n",
       "      <td>12.0</td>\n",
       "    </tr>\n",
       "  </tbody>\n",
       "</table>\n",
       "</div>"
      ],
      "text/plain": [
       "       Wish yield without CL    NEAR in MXN  Loan lenght\n",
       "count              34.000000      34.000000         34.0\n",
       "mean                0.823529   17085.882353         12.0\n",
       "std                 0.386953   37030.822798          0.0\n",
       "min                 0.000000       0.000000         12.0\n",
       "25%                 1.000000     625.000000         12.0\n",
       "50%                 1.000000    1585.000000         12.0\n",
       "75%                 1.000000   13750.000000         12.0\n",
       "max                 1.000000  150000.000000         12.0"
      ]
     },
     "execution_count": 144,
     "metadata": {},
     "output_type": "execute_result"
    }
   ],
   "source": [
    "Tlv_mths.describe()"
   ]
  },
  {
   "cell_type": "code",
   "execution_count": 145,
   "id": "11c84625",
   "metadata": {},
   "outputs": [
    {
     "data": {
      "text/plain": [
       "{'Impuestos': 0, 'Liquidez': 0, 'Rendimiento': 0}"
      ]
     },
     "execution_count": 145,
     "metadata": {},
     "output_type": "execute_result"
    }
   ],
   "source": [
    "counter={item:0 for item in new_labels}\n",
    "counter"
   ]
  },
  {
   "cell_type": "code",
   "execution_count": 146,
   "id": "b2f61a8e",
   "metadata": {},
   "outputs": [],
   "source": [
    "for k in range(len(Tlv_mths)):\n",
    "    ctr_update(df.iloc[k,2],1)"
   ]
  },
  {
   "cell_type": "code",
   "execution_count": 147,
   "id": "5037a56b",
   "metadata": {},
   "outputs": [
    {
     "data": {
      "text/plain": [
       "{'Impuestos': 10, 'Liquidez': 13, 'Rendimiento': 11}"
      ]
     },
     "execution_count": 147,
     "metadata": {},
     "output_type": "execute_result"
    }
   ],
   "source": [
    "counter"
   ]
  },
  {
   "cell_type": "code",
   "execution_count": 148,
   "id": "df4dffb6",
   "metadata": {},
   "outputs": [
    {
     "data": {
      "image/png": "[encoded data removed]",
      "text/plain": [
       "<Figure size 640x480 with 1 Axes>"
      ]
     },
     "metadata": {},
     "output_type": "display_data"
    }
   ],
   "source": [
    "import matplotlib.pyplot as plt\n",
    "\n",
    "colors = ['#ff9999','#66b3ff','#ffcc99']\n",
    "plt.pie(counter.values(), labels=counter.keys(),colors=colors,\n",
    "autopct='%1.2f%%', shadow=False, startangle=180)\n",
    "plt.title('Prioridad #1 - 12 meses')\n",
    "plt.show()"
   ]
  },
  {
   "cell_type": "markdown",
   "id": "60e7ed07",
   "metadata": {},
   "source": [
    "# CORRELATION MATRIX"
   ]
  },
  {
   "cell_type": "markdown",
   "id": "7ec4962d",
   "metadata": {},
   "source": [
    "In this section we'll rescale (logarithm function) the 'Near' amounts since the behavior of the amounts is 'pareto-like'.\n",
    "Then we'll standarize the 'Near' deposits and then perform a 'One Hot Encoding' to the 'Priorities' variables.\n",
    "\n",
    "This should improve the overall quality of the data analysis."
   ]
  },
  {
   "cell_type": "code",
   "execution_count": 121,
   "id": "47cbf9cd",
   "metadata": {},
   "outputs": [],
   "source": [
    "df2=df.copy()\n",
    "df2.drop(['P 2','P 3'],axis=1, inplace=True)"
   ]
  },
  {
   "cell_type": "code",
   "execution_count": 122,
   "id": "00dfa063",
   "metadata": {},
   "outputs": [
    {
     "data": {
      "text/html": [
       "<div>\n",
       "<style scoped>\n",
       "    .dataframe tbody tr th:only-of-type {\n",
       "        vertical-align: middle;\n",
       "    }\n",
       "\n",
       "    .dataframe tbody tr th {\n",
       "        vertical-align: top;\n",
       "    }\n",
       "\n",
       "    .dataframe thead th {\n",
       "        text-align: right;\n",
       "    }\n",
       "</style>\n",
       "<table border=\"1\" class=\"dataframe\">\n",
       "  <thead>\n",
       "    <tr style=\"text-align: right;\">\n",
       "      <th></th>\n",
       "      <th>Wish yield without CL</th>\n",
       "      <th>NEAR in MXN</th>\n",
       "      <th>Loan lenght</th>\n",
       "      <th>P 1_Impuestos</th>\n",
       "      <th>P 1_Liquidez</th>\n",
       "      <th>P 1_Rendimiento</th>\n",
       "    </tr>\n",
       "  </thead>\n",
       "  <tbody>\n",
       "    <tr>\n",
       "      <th>0</th>\n",
       "      <td>1</td>\n",
       "      <td>16000.0</td>\n",
       "      <td>1</td>\n",
       "      <td>1</td>\n",
       "      <td>0</td>\n",
       "      <td>0</td>\n",
       "    </tr>\n",
       "    <tr>\n",
       "      <th>1</th>\n",
       "      <td>1</td>\n",
       "      <td>1500.0</td>\n",
       "      <td>12</td>\n",
       "      <td>0</td>\n",
       "      <td>1</td>\n",
       "      <td>0</td>\n",
       "    </tr>\n",
       "    <tr>\n",
       "      <th>2</th>\n",
       "      <td>1</td>\n",
       "      <td>5000.0</td>\n",
       "      <td>6</td>\n",
       "      <td>0</td>\n",
       "      <td>0</td>\n",
       "      <td>1</td>\n",
       "    </tr>\n",
       "    <tr>\n",
       "      <th>3</th>\n",
       "      <td>1</td>\n",
       "      <td>150000.0</td>\n",
       "      <td>12</td>\n",
       "      <td>1</td>\n",
       "      <td>0</td>\n",
       "      <td>0</td>\n",
       "    </tr>\n",
       "    <tr>\n",
       "      <th>4</th>\n",
       "      <td>0</td>\n",
       "      <td>500.0</td>\n",
       "      <td>12</td>\n",
       "      <td>1</td>\n",
       "      <td>0</td>\n",
       "      <td>0</td>\n",
       "    </tr>\n",
       "    <tr>\n",
       "      <th>...</th>\n",
       "      <td>...</td>\n",
       "      <td>...</td>\n",
       "      <td>...</td>\n",
       "      <td>...</td>\n",
       "      <td>...</td>\n",
       "      <td>...</td>\n",
       "    </tr>\n",
       "    <tr>\n",
       "      <th>121</th>\n",
       "      <td>1</td>\n",
       "      <td>6000.0</td>\n",
       "      <td>6</td>\n",
       "      <td>0</td>\n",
       "      <td>1</td>\n",
       "      <td>0</td>\n",
       "    </tr>\n",
       "    <tr>\n",
       "      <th>122</th>\n",
       "      <td>1</td>\n",
       "      <td>5000.0</td>\n",
       "      <td>3</td>\n",
       "      <td>0</td>\n",
       "      <td>1</td>\n",
       "      <td>0</td>\n",
       "    </tr>\n",
       "    <tr>\n",
       "      <th>123</th>\n",
       "      <td>1</td>\n",
       "      <td>50000.0</td>\n",
       "      <td>3</td>\n",
       "      <td>0</td>\n",
       "      <td>1</td>\n",
       "      <td>0</td>\n",
       "    </tr>\n",
       "    <tr>\n",
       "      <th>124</th>\n",
       "      <td>1</td>\n",
       "      <td>25000.0</td>\n",
       "      <td>1</td>\n",
       "      <td>1</td>\n",
       "      <td>0</td>\n",
       "      <td>0</td>\n",
       "    </tr>\n",
       "    <tr>\n",
       "      <th>125</th>\n",
       "      <td>1</td>\n",
       "      <td>92300.0</td>\n",
       "      <td>6</td>\n",
       "      <td>0</td>\n",
       "      <td>1</td>\n",
       "      <td>0</td>\n",
       "    </tr>\n",
       "  </tbody>\n",
       "</table>\n",
       "<p>126 rows × 6 columns</p>\n",
       "</div>"
      ],
      "text/plain": [
       "     Wish yield without CL  NEAR in MXN  Loan lenght  P 1_Impuestos  \\\n",
       "0                        1      16000.0            1              1   \n",
       "1                        1       1500.0           12              0   \n",
       "2                        1       5000.0            6              0   \n",
       "3                        1     150000.0           12              1   \n",
       "4                        0        500.0           12              1   \n",
       "..                     ...          ...          ...            ...   \n",
       "121                      1       6000.0            6              0   \n",
       "122                      1       5000.0            3              0   \n",
       "123                      1      50000.0            3              0   \n",
       "124                      1      25000.0            1              1   \n",
       "125                      1      92300.0            6              0   \n",
       "\n",
       "     P 1_Liquidez  P 1_Rendimiento  \n",
       "0               0                0  \n",
       "1               1                0  \n",
       "2               0                1  \n",
       "3               0                0  \n",
       "4               0                0  \n",
       "..            ...              ...  \n",
       "121             1                0  \n",
       "122             1                0  \n",
       "123             1                0  \n",
       "124             0                0  \n",
       "125             1                0  \n",
       "\n",
       "[126 rows x 6 columns]"
      ]
     },
     "execution_count": 122,
     "metadata": {},
     "output_type": "execute_result"
    }
   ],
   "source": [
    "# Perform one-hot encoding on all columns\n",
    "one_hot = pd.get_dummies(df2, columns=['P 1'], drop_first=False)\n",
    "one_hot"
   ]
  },
  {
   "cell_type": "code",
   "execution_count": 124,
   "id": "5ee9e46d",
   "metadata": {},
   "outputs": [
    {
     "data": {
      "image/png": "[encoded data removed]",
      "text/plain": [
       "<Figure size 640x480 with 2 Axes>"
      ]
     },
     "metadata": {},
     "output_type": "display_data"
    }
   ],
   "source": [
    "import seaborn as sns\n",
    "sns.heatmap(one_hot.corr(),annot=True );"
   ]
  },
  {
   "cell_type": "markdown",
   "id": "1d3337cb",
   "metadata": {},
   "source": [
    "# FINAL REMARKS"
   ]
  },
  {
   "cell_type": "markdown",
   "id": "2a4bee77",
   "metadata": {},
   "source": [
    "1. By clustering customers through different criteria, they show that their greatest appetite is for liquidity.\n",
    "2. The holders are not that much concerned in 'Taxes', there's a negative 0.2 lineal correlation between the desire to accumulate (staking) yield against the desire to optimize taxes.\n",
    "3. Liquidity and yield are strongly negatively correlated (-0.68).\n",
    "4. It cannot be said that customers are segmented by purchasing power, the correlations are close to zero. After  rescaling and standardization, correlation is still minuscule.\n",
    "5. Respondents with NEAR tokens show a heavy-tailed distribution (and positive bias) with respect to deposits."
   ]
  }
 ],
 "metadata": {
  "kernelspec": {
   "display_name": "Python 3 (ipykernel)",
   "language": "python",
   "name": "python3"
  },
  "language_info": {
   "codemirror_mode": {
    "name": "ipython",
    "version": 3
   },
   "file_extension": ".py",
   "mimetype": "text/x-python",
   "name": "python",
   "nbconvert_exporter": "python",
   "pygments_lexer": "ipython3",
   "version": "3.10.8"
  }
 },
 "nbformat": 4,
 "nbformat_minor": 5
}
