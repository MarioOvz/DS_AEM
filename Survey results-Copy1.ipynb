{
 "cells": [
  {
   "cell_type": "markdown",
   "id": "3ae11ecf",
   "metadata": {},
   "source": [
    "# SUMMARY\n",
    "In this document, descriptive statistics are made on a survey carried out on users hollding the NEAR protocol tokens."
   ]
  },
  {
   "cell_type": "code",
   "execution_count": 47,
   "id": "df30975d",
   "metadata": {},
   "outputs": [],
   "source": [
    "import pandas as pd\n",
    "import numpy as np"
   ]
  },
  {
   "cell_type": "code",
   "execution_count": 48,
   "id": "190bbe27",
   "metadata": {},
   "outputs": [],
   "source": [
    "df=pd.read_excel('ranking_survey.xlsx')"
   ]
  },
  {
   "cell_type": "code",
   "execution_count": 49,
   "id": "26db1fa4",
   "metadata": {},
   "outputs": [],
   "source": [
    "df.drop('Unnamed: 3', inplace=True, axis=1)"
   ]
  },
  {
   "cell_type": "code",
   "execution_count": 50,
   "id": "36c8a7dc",
   "metadata": {},
   "outputs": [
    {
     "name": "stdout",
     "output_type": "stream",
     "text": [
      "¿Te gustaría contar con la opción de generar rendimiento en tus activos digitales sin la necesidad de solicitar una línea de crédito con tarjeta Crecy?\n",
      "¿Qué valor de *NEAR en MXN *planeas poner como garantía?\n",
      "Prioridad #1\n",
      "Prioridad #2\n",
      "Prioridad #3\n",
      "¿A cuántos meses te gustaría financiar la mayoría de las compras que hagas con tu tarjeta Crecy?\n"
     ]
    }
   ],
   "source": [
    "for item in df.columns:\n",
    "    print(item)"
   ]
  },
  {
   "cell_type": "code",
   "execution_count": 51,
   "id": "1e81e8ef",
   "metadata": {},
   "outputs": [],
   "source": [
    "df=df.dropna().reset_index(drop=True)"
   ]
  },
  {
   "cell_type": "code",
   "execution_count": 52,
   "id": "e934294e",
   "metadata": {},
   "outputs": [],
   "source": [
    "new_name=columns=['Wish yield without CL','NEAR in MXN','P 1','P 2','P 3','Loan lenght']"
   ]
  },
  {
   "cell_type": "code",
   "execution_count": 53,
   "id": "c042fedb",
   "metadata": {},
   "outputs": [],
   "source": [
    "cols={df.columns[k]: new_name[k] for k in range(6)}"
   ]
  },
  {
   "cell_type": "code",
   "execution_count": 54,
   "id": "051cbee4",
   "metadata": {},
   "outputs": [],
   "source": [
    "# Rename columns\n",
    "df.rename(columns=cols, inplace=True)\n",
    "\n",
    "# Float numbers to do stats\n",
    "df['NEAR in MXN']=df['NEAR in MXN'].astype(float)\n",
    "\n",
    "# again, convert string data to numeric\n",
    "df[\"Loan lenght\"]= df[\"Loan lenght\"].str.extract(\"(\\d*\\.?\\d+)\", expand=True).astype(int)"
   ]
  },
  {
   "cell_type": "code",
   "execution_count": 55,
   "id": "54185944",
   "metadata": {},
   "outputs": [],
   "source": [
    "priorities=list(df['P 1'][0:3])\n",
    "new_labels=['Taxes', 'Liquidity','Yield' ]"
   ]
  },
  {
   "cell_type": "code",
   "execution_count": 56,
   "id": "d87514fc",
   "metadata": {},
   "outputs": [
    {
     "name": "stdout",
     "output_type": "stream",
     "text": [
      "Quiero optimizar mis impuestos\n",
      "Me da oportunidad de acceder a liquidez sin vender mis activos digitales\n",
      "Me gusta que puedo generar rendimientos en mis criptos\n"
     ]
    }
   ],
   "source": [
    "for item in priorities:\n",
    "    print(item)"
   ]
  },
  {
   "cell_type": "code",
   "execution_count": 57,
   "id": "ee56dd9d",
   "metadata": {},
   "outputs": [
    {
     "data": {
      "text/html": [
       "<div>\n",
       "<style scoped>\n",
       "    .dataframe tbody tr th:only-of-type {\n",
       "        vertical-align: middle;\n",
       "    }\n",
       "\n",
       "    .dataframe tbody tr th {\n",
       "        vertical-align: top;\n",
       "    }\n",
       "\n",
       "    .dataframe thead th {\n",
       "        text-align: right;\n",
       "    }\n",
       "</style>\n",
       "<table border=\"1\" class=\"dataframe\">\n",
       "  <thead>\n",
       "    <tr style=\"text-align: right;\">\n",
       "      <th></th>\n",
       "      <th>Wish yield without CL</th>\n",
       "      <th>NEAR in MXN</th>\n",
       "      <th>P 1</th>\n",
       "      <th>P 2</th>\n",
       "      <th>P 3</th>\n",
       "      <th>Loan lenght</th>\n",
       "    </tr>\n",
       "  </thead>\n",
       "  <tbody>\n",
       "    <tr>\n",
       "      <th>0</th>\n",
       "      <td>1</td>\n",
       "      <td>16000.0</td>\n",
       "      <td>Taxes</td>\n",
       "      <td>Liquidity</td>\n",
       "      <td>Liquidity</td>\n",
       "      <td>1</td>\n",
       "    </tr>\n",
       "    <tr>\n",
       "      <th>1</th>\n",
       "      <td>1</td>\n",
       "      <td>1500.0</td>\n",
       "      <td>Liquidity</td>\n",
       "      <td>Yield</td>\n",
       "      <td>Taxes</td>\n",
       "      <td>12</td>\n",
       "    </tr>\n",
       "    <tr>\n",
       "      <th>2</th>\n",
       "      <td>1</td>\n",
       "      <td>5000.0</td>\n",
       "      <td>Yield</td>\n",
       "      <td>Liquidity</td>\n",
       "      <td>Taxes</td>\n",
       "      <td>6</td>\n",
       "    </tr>\n",
       "    <tr>\n",
       "      <th>3</th>\n",
       "      <td>1</td>\n",
       "      <td>150000.0</td>\n",
       "      <td>Taxes</td>\n",
       "      <td>Yield</td>\n",
       "      <td>Liquidity</td>\n",
       "      <td>12</td>\n",
       "    </tr>\n",
       "    <tr>\n",
       "      <th>4</th>\n",
       "      <td>0</td>\n",
       "      <td>500.0</td>\n",
       "      <td>Taxes</td>\n",
       "      <td>Yield</td>\n",
       "      <td>Liquidity</td>\n",
       "      <td>12</td>\n",
       "    </tr>\n",
       "    <tr>\n",
       "      <th>...</th>\n",
       "      <td>...</td>\n",
       "      <td>...</td>\n",
       "      <td>...</td>\n",
       "      <td>...</td>\n",
       "      <td>...</td>\n",
       "      <td>...</td>\n",
       "    </tr>\n",
       "    <tr>\n",
       "      <th>121</th>\n",
       "      <td>1</td>\n",
       "      <td>6000.0</td>\n",
       "      <td>Liquidity</td>\n",
       "      <td>Yield</td>\n",
       "      <td>Taxes</td>\n",
       "      <td>6</td>\n",
       "    </tr>\n",
       "    <tr>\n",
       "      <th>122</th>\n",
       "      <td>1</td>\n",
       "      <td>5000.0</td>\n",
       "      <td>Liquidity</td>\n",
       "      <td>Yield</td>\n",
       "      <td>Taxes</td>\n",
       "      <td>3</td>\n",
       "    </tr>\n",
       "    <tr>\n",
       "      <th>123</th>\n",
       "      <td>1</td>\n",
       "      <td>50000.0</td>\n",
       "      <td>Liquidity</td>\n",
       "      <td>Taxes</td>\n",
       "      <td>Yield</td>\n",
       "      <td>3</td>\n",
       "    </tr>\n",
       "    <tr>\n",
       "      <th>124</th>\n",
       "      <td>1</td>\n",
       "      <td>25000.0</td>\n",
       "      <td>Taxes</td>\n",
       "      <td>Yield</td>\n",
       "      <td>Liquidity</td>\n",
       "      <td>1</td>\n",
       "    </tr>\n",
       "    <tr>\n",
       "      <th>125</th>\n",
       "      <td>1</td>\n",
       "      <td>92300.0</td>\n",
       "      <td>Liquidity</td>\n",
       "      <td>Yield</td>\n",
       "      <td>Taxes</td>\n",
       "      <td>6</td>\n",
       "    </tr>\n",
       "  </tbody>\n",
       "</table>\n",
       "<p>126 rows × 6 columns</p>\n",
       "</div>"
      ],
      "text/plain": [
       "     Wish yield without CL  NEAR in MXN        P 1        P 2        P 3  \\\n",
       "0                        1      16000.0      Taxes  Liquidity  Liquidity   \n",
       "1                        1       1500.0  Liquidity      Yield      Taxes   \n",
       "2                        1       5000.0      Yield  Liquidity      Taxes   \n",
       "3                        1     150000.0      Taxes      Yield  Liquidity   \n",
       "4                        0        500.0      Taxes      Yield  Liquidity   \n",
       "..                     ...          ...        ...        ...        ...   \n",
       "121                      1       6000.0  Liquidity      Yield      Taxes   \n",
       "122                      1       5000.0  Liquidity      Yield      Taxes   \n",
       "123                      1      50000.0  Liquidity      Taxes      Yield   \n",
       "124                      1      25000.0      Taxes      Yield  Liquidity   \n",
       "125                      1      92300.0  Liquidity      Yield      Taxes   \n",
       "\n",
       "     Loan lenght  \n",
       "0              1  \n",
       "1             12  \n",
       "2              6  \n",
       "3             12  \n",
       "4             12  \n",
       "..           ...  \n",
       "121            6  \n",
       "122            3  \n",
       "123            3  \n",
       "124            1  \n",
       "125            6  \n",
       "\n",
       "[126 rows x 6 columns]"
      ]
     },
     "execution_count": 57,
     "metadata": {},
     "output_type": "execute_result"
    }
   ],
   "source": [
    "dct={i: j for i, j in zip(priorities, new_labels)}\n",
    "df.replace(dct, inplace=True)\n",
    "df"
   ]
  },
  {
   "cell_type": "code",
   "execution_count": 58,
   "id": "2493effd",
   "metadata": {},
   "outputs": [
    {
     "data": {
      "text/html": [
       "<div>\n",
       "<style scoped>\n",
       "    .dataframe tbody tr th:only-of-type {\n",
       "        vertical-align: middle;\n",
       "    }\n",
       "\n",
       "    .dataframe tbody tr th {\n",
       "        vertical-align: top;\n",
       "    }\n",
       "\n",
       "    .dataframe thead th {\n",
       "        text-align: right;\n",
       "    }\n",
       "</style>\n",
       "<table border=\"1\" class=\"dataframe\">\n",
       "  <thead>\n",
       "    <tr style=\"text-align: right;\">\n",
       "      <th></th>\n",
       "      <th>Wish yield without CL</th>\n",
       "      <th>NEAR in MXN</th>\n",
       "      <th>Loan lenght</th>\n",
       "    </tr>\n",
       "  </thead>\n",
       "  <tbody>\n",
       "    <tr>\n",
       "      <th>count</th>\n",
       "      <td>126.000000</td>\n",
       "      <td>126.000000</td>\n",
       "      <td>126.000000</td>\n",
       "    </tr>\n",
       "    <tr>\n",
       "      <th>mean</th>\n",
       "      <td>0.880952</td>\n",
       "      <td>13349.841270</td>\n",
       "      <td>6.579365</td>\n",
       "    </tr>\n",
       "    <tr>\n",
       "      <th>std</th>\n",
       "      <td>0.325137</td>\n",
       "      <td>25911.031249</td>\n",
       "      <td>3.876809</td>\n",
       "    </tr>\n",
       "    <tr>\n",
       "      <th>min</th>\n",
       "      <td>0.000000</td>\n",
       "      <td>0.000000</td>\n",
       "      <td>1.000000</td>\n",
       "    </tr>\n",
       "    <tr>\n",
       "      <th>25%</th>\n",
       "      <td>1.000000</td>\n",
       "      <td>1000.000000</td>\n",
       "      <td>3.000000</td>\n",
       "    </tr>\n",
       "    <tr>\n",
       "      <th>50%</th>\n",
       "      <td>1.000000</td>\n",
       "      <td>3000.000000</td>\n",
       "      <td>6.000000</td>\n",
       "    </tr>\n",
       "    <tr>\n",
       "      <th>75%</th>\n",
       "      <td>1.000000</td>\n",
       "      <td>10000.000000</td>\n",
       "      <td>12.000000</td>\n",
       "    </tr>\n",
       "    <tr>\n",
       "      <th>max</th>\n",
       "      <td>1.000000</td>\n",
       "      <td>150000.000000</td>\n",
       "      <td>12.000000</td>\n",
       "    </tr>\n",
       "  </tbody>\n",
       "</table>\n",
       "</div>"
      ],
      "text/plain": [
       "       Wish yield without CL    NEAR in MXN  Loan lenght\n",
       "count             126.000000     126.000000   126.000000\n",
       "mean                0.880952   13349.841270     6.579365\n",
       "std                 0.325137   25911.031249     3.876809\n",
       "min                 0.000000       0.000000     1.000000\n",
       "25%                 1.000000    1000.000000     3.000000\n",
       "50%                 1.000000    3000.000000     6.000000\n",
       "75%                 1.000000   10000.000000    12.000000\n",
       "max                 1.000000  150000.000000    12.000000"
      ]
     },
     "execution_count": 58,
     "metadata": {},
     "output_type": "execute_result"
    }
   ],
   "source": [
    "df.describe()"
   ]
  },
  {
   "cell_type": "code",
   "execution_count": 60,
   "id": "18e035ff",
   "metadata": {},
   "outputs": [
    {
     "data": {
      "image/png": "[encoded data removed]",
      "text/plain": [
       "<Figure size 1500x800 with 1 Axes>"
      ]
     },
     "metadata": {},
     "output_type": "display_data"
    }
   ],
   "source": [
    "import matplotlib.pyplot as plt\n",
    "import scipy.stats\n",
    "import csv\n",
    "import numpy as np\n",
    "\n",
    "data = df['NEAR in MXN']\n",
    "plt.figure(figsize=(15,8))\n",
    "plt.hist(data, bins=50, density=True)\n",
    "\n",
    "[a_fit, loc_fit, scale_fit] = scipy.stats.pareto.fit(data)\n",
    "x = np.linspace(np.min(data), np.max(data))\n",
    "\n",
    "plt.plot(x, scipy.stats.pareto.pdf(x, a_fit, loc=loc_fit, scale=scale_fit),)\n",
    "\n",
    "plt.xlabel(\"NEAR (MXN)\")\n",
    "plt.ylabel(\"Probability Density\")\n",
    "plt.title('Pareto distribution fit to data')\n",
    "\n",
    "plt.show()"
   ]
  },
  {
   "cell_type": "markdown",
   "id": "259d1fdd",
   "metadata": {},
   "source": [
    "# PIE CHART\n",
    "\n",
    "In this section we'll divide the 'votes' of each participant by $7$ ; $\\frac{4}{7}$ parts will be assigned to the first priority, $\\frac{2}{7}$ to the second and $\\frac{1}{7}$ to the third.\n",
    "\n",
    "It is worth mentioning that the weights grow in a ratio of 2 to 1; this is priority 2 has twice the weight of priority 3 and priority 1 twice the weight of priority 2.\n",
    "\n",
    "In this way we can know the priorities giving equal weight to each person."
   ]
  },
  {
   "cell_type": "code",
   "execution_count": 110,
   "id": "26171af8",
   "metadata": {},
   "outputs": [
    {
     "data": {
      "text/plain": [
       "{'Taxes': 0, 'Liquidity': 0, 'Yield': 0}"
      ]
     },
     "execution_count": 110,
     "metadata": {},
     "output_type": "execute_result"
    }
   ],
   "source": [
    "counter={item:0 for item in new_labels}\n",
    "counter"
   ]
  },
  {
   "cell_type": "code",
   "execution_count": 111,
   "id": "4860ce8a",
   "metadata": {},
   "outputs": [],
   "source": [
    "for k in range(len(df)):\n",
    "    ctr_update(df.iloc[k,2],(4/7) )\n",
    "    ctr_update(df.iloc[k,3],(2/7))\n",
    "    ctr_update(df.iloc[k,4],(1/7))"
   ]
  },
  {
   "cell_type": "code",
   "execution_count": 106,
   "id": "09ae80ea",
   "metadata": {},
   "outputs": [
    {
     "data": {
      "image/png": "[encoded data removed]",
      "text/plain": [
       "<Figure size 640x480 with 1 Axes>"
      ]
     },
     "metadata": {},
     "output_type": "display_data"
    }
   ],
   "source": [
    "import matplotlib.pyplot as plt\n",
    "\n",
    "colors = ['#ff9999','#66b3ff','#ffcc99']\n",
    "plt.pie(counter.values(), labels=counter.keys(),colors=colors,\n",
    "autopct='%1.2f%%', shadow=False, startangle=180)\n",
    "plt.title('Priorities evenly weighted by customers')\n",
    "plt.show()"
   ]
  },
  {
   "cell_type": "markdown",
   "id": "d91fd79e",
   "metadata": {},
   "source": [
    "# WEIGHTS ACCORDING TO NEAR DEPOSITS\n",
    "\n",
    "In this section we'll divide the amounts to be deposited (MXN) by each participant by $7$ ; $\\frac{4}{7}$ parts will be assigned to the first priority, $\\frac{2}{7}$ to the second and $\\frac{1}{7}$ to the third.\n",
    "\n",
    "As an example a $\\$7,000$ MXN deposit will accumulate $\\$4,000$ MXN in the label chosen as priority 1, $\\$2,000$ in priority 2 and $\\$1,000$ in priority 3.\n",
    "\n",
    "In this way category votes are monetarily weighted."
   ]
  },
  {
   "cell_type": "code",
   "execution_count": 66,
   "id": "bdaf10ac",
   "metadata": {},
   "outputs": [
    {
     "data": {
      "text/plain": [
       "{'Taxes': 0, 'Liquidity': 0, 'Yield': 0}"
      ]
     },
     "execution_count": 66,
     "metadata": {},
     "output_type": "execute_result"
    }
   ],
   "source": [
    "counter={item:0 for item in new_labels}\n",
    "counter"
   ]
  },
  {
   "cell_type": "code",
   "execution_count": 67,
   "id": "197583bc",
   "metadata": {},
   "outputs": [],
   "source": [
    "def ctr_update(key,val):\n",
    "    counter[key]+=val\n",
    "    return None"
   ]
  },
  {
   "cell_type": "code",
   "execution_count": 68,
   "id": "92f7e786",
   "metadata": {},
   "outputs": [],
   "source": [
    "for k in range(len(df)):\n",
    "    dep=df.iloc[k,1]\n",
    "    ctr_update(df.iloc[k,2],dep*(4/7) )\n",
    "    ctr_update(df.iloc[k,3],dep*(2/7))\n",
    "    ctr_update(df.iloc[k,4],dep*(1/7))"
   ]
  },
  {
   "cell_type": "code",
   "execution_count": 69,
   "id": "49f8c4f7",
   "metadata": {},
   "outputs": [
    {
     "data": {
      "text/plain": [
       "{'Taxes': 457455.0000000003,\n",
       " 'Liquidity': 625391.4285714284,\n",
       " 'Yield': 599233.5714285711}"
      ]
     },
     "execution_count": 69,
     "metadata": {},
     "output_type": "execute_result"
    }
   ],
   "source": [
    "counter"
   ]
  },
  {
   "cell_type": "code",
   "execution_count": 86,
   "id": "a7a858a2",
   "metadata": {},
   "outputs": [
    {
     "data": {
      "image/png": "[encoded data removed]",
      "text/plain": [
       "<Figure size 640x480 with 1 Axes>"
      ]
     },
     "metadata": {},
     "output_type": "display_data"
    }
   ],
   "source": [
    "import matplotlib.pyplot as plt\n",
    "\n",
    "colors = ['#ff9999','#66b3ff','#ffcc99']\n",
    "plt.pie(counter.values(), labels=counter.keys(),colors=colors,\n",
    "autopct='%1.2f%%', shadow=False, startangle=180)\n",
    "plt.title('Priorities weighted by deposits')\n",
    "plt.show()"
   ]
  },
  {
   "cell_type": "markdown",
   "id": "baa461c4",
   "metadata": {},
   "source": [
    "# CUSTOMER CLUSTERING BY LOAN LENGHT"
   ]
  },
  {
   "cell_type": "markdown",
   "id": "6334f19b",
   "metadata": {},
   "source": [
    "In this section we will cluster according to the duration of the loans."
   ]
  },
  {
   "cell_type": "code",
   "execution_count": 127,
   "id": "3654d984",
   "metadata": {},
   "outputs": [
    {
     "data": {
      "text/html": [
       "<div>\n",
       "<style scoped>\n",
       "    .dataframe tbody tr th:only-of-type {\n",
       "        vertical-align: middle;\n",
       "    }\n",
       "\n",
       "    .dataframe tbody tr th {\n",
       "        vertical-align: top;\n",
       "    }\n",
       "\n",
       "    .dataframe thead tr th {\n",
       "        text-align: left;\n",
       "    }\n",
       "\n",
       "    .dataframe thead tr:last-of-type th {\n",
       "        text-align: right;\n",
       "    }\n",
       "</style>\n",
       "<table border=\"1\" class=\"dataframe\">\n",
       "  <thead>\n",
       "    <tr>\n",
       "      <th></th>\n",
       "      <th colspan=\"8\" halign=\"left\">Wish yield without CL</th>\n",
       "      <th colspan=\"8\" halign=\"left\">NEAR in MXN</th>\n",
       "    </tr>\n",
       "    <tr>\n",
       "      <th></th>\n",
       "      <th>count</th>\n",
       "      <th>mean</th>\n",
       "      <th>std</th>\n",
       "      <th>min</th>\n",
       "      <th>25%</th>\n",
       "      <th>50%</th>\n",
       "      <th>75%</th>\n",
       "      <th>max</th>\n",
       "      <th>count</th>\n",
       "      <th>mean</th>\n",
       "      <th>std</th>\n",
       "      <th>min</th>\n",
       "      <th>25%</th>\n",
       "      <th>50%</th>\n",
       "      <th>75%</th>\n",
       "      <th>max</th>\n",
       "    </tr>\n",
       "    <tr>\n",
       "      <th>Loan lenght</th>\n",
       "      <th></th>\n",
       "      <th></th>\n",
       "      <th></th>\n",
       "      <th></th>\n",
       "      <th></th>\n",
       "      <th></th>\n",
       "      <th></th>\n",
       "      <th></th>\n",
       "      <th></th>\n",
       "      <th></th>\n",
       "      <th></th>\n",
       "      <th></th>\n",
       "      <th></th>\n",
       "      <th></th>\n",
       "      <th></th>\n",
       "      <th></th>\n",
       "    </tr>\n",
       "  </thead>\n",
       "  <tbody>\n",
       "    <tr>\n",
       "      <th>1</th>\n",
       "      <td>16.0</td>\n",
       "      <td>0.812500</td>\n",
       "      <td>0.403113</td>\n",
       "      <td>0.0</td>\n",
       "      <td>1.0</td>\n",
       "      <td>1.0</td>\n",
       "      <td>1.0</td>\n",
       "      <td>1.0</td>\n",
       "      <td>16.0</td>\n",
       "      <td>13906.250000</td>\n",
       "      <td>12318.304469</td>\n",
       "      <td>2000.0</td>\n",
       "      <td>5000.0</td>\n",
       "      <td>10000.0</td>\n",
       "      <td>20000.0</td>\n",
       "      <td>50000.0</td>\n",
       "    </tr>\n",
       "    <tr>\n",
       "      <th>3</th>\n",
       "      <td>25.0</td>\n",
       "      <td>0.920000</td>\n",
       "      <td>0.276887</td>\n",
       "      <td>0.0</td>\n",
       "      <td>1.0</td>\n",
       "      <td>1.0</td>\n",
       "      <td>1.0</td>\n",
       "      <td>1.0</td>\n",
       "      <td>25.0</td>\n",
       "      <td>11451.600000</td>\n",
       "      <td>23056.131583</td>\n",
       "      <td>5.0</td>\n",
       "      <td>500.0</td>\n",
       "      <td>2000.0</td>\n",
       "      <td>10000.0</td>\n",
       "      <td>100000.0</td>\n",
       "    </tr>\n",
       "    <tr>\n",
       "      <th>6</th>\n",
       "      <td>43.0</td>\n",
       "      <td>0.930233</td>\n",
       "      <td>0.257770</td>\n",
       "      <td>0.0</td>\n",
       "      <td>1.0</td>\n",
       "      <td>1.0</td>\n",
       "      <td>1.0</td>\n",
       "      <td>1.0</td>\n",
       "      <td>43.0</td>\n",
       "      <td>9564.883721</td>\n",
       "      <td>17672.039575</td>\n",
       "      <td>50.0</td>\n",
       "      <td>1000.0</td>\n",
       "      <td>3000.0</td>\n",
       "      <td>8000.0</td>\n",
       "      <td>92300.0</td>\n",
       "    </tr>\n",
       "    <tr>\n",
       "      <th>9</th>\n",
       "      <td>8.0</td>\n",
       "      <td>0.875000</td>\n",
       "      <td>0.353553</td>\n",
       "      <td>0.0</td>\n",
       "      <td>1.0</td>\n",
       "      <td>1.0</td>\n",
       "      <td>1.0</td>\n",
       "      <td>1.0</td>\n",
       "      <td>8.0</td>\n",
       "      <td>22635.000000</td>\n",
       "      <td>35141.063892</td>\n",
       "      <td>80.0</td>\n",
       "      <td>3000.0</td>\n",
       "      <td>7500.0</td>\n",
       "      <td>20000.0</td>\n",
       "      <td>100000.0</td>\n",
       "    </tr>\n",
       "    <tr>\n",
       "      <th>12</th>\n",
       "      <td>34.0</td>\n",
       "      <td>0.823529</td>\n",
       "      <td>0.386953</td>\n",
       "      <td>0.0</td>\n",
       "      <td>1.0</td>\n",
       "      <td>1.0</td>\n",
       "      <td>1.0</td>\n",
       "      <td>1.0</td>\n",
       "      <td>34.0</td>\n",
       "      <td>17085.882353</td>\n",
       "      <td>37030.822798</td>\n",
       "      <td>0.0</td>\n",
       "      <td>625.0</td>\n",
       "      <td>1585.0</td>\n",
       "      <td>13750.0</td>\n",
       "      <td>150000.0</td>\n",
       "    </tr>\n",
       "  </tbody>\n",
       "</table>\n",
       "</div>"
      ],
      "text/plain": [
       "            Wish yield without CL                                          \\\n",
       "                            count      mean       std  min  25%  50%  75%   \n",
       "Loan lenght                                                                 \n",
       "1                            16.0  0.812500  0.403113  0.0  1.0  1.0  1.0   \n",
       "3                            25.0  0.920000  0.276887  0.0  1.0  1.0  1.0   \n",
       "6                            43.0  0.930233  0.257770  0.0  1.0  1.0  1.0   \n",
       "9                             8.0  0.875000  0.353553  0.0  1.0  1.0  1.0   \n",
       "12                           34.0  0.823529  0.386953  0.0  1.0  1.0  1.0   \n",
       "\n",
       "                 NEAR in MXN                                              \\\n",
       "             max       count          mean           std     min     25%   \n",
       "Loan lenght                                                                \n",
       "1            1.0        16.0  13906.250000  12318.304469  2000.0  5000.0   \n",
       "3            1.0        25.0  11451.600000  23056.131583     5.0   500.0   \n",
       "6            1.0        43.0   9564.883721  17672.039575    50.0  1000.0   \n",
       "9            1.0         8.0  22635.000000  35141.063892    80.0  3000.0   \n",
       "12           1.0        34.0  17085.882353  37030.822798     0.0   625.0   \n",
       "\n",
       "                                         \n",
       "                 50%      75%       max  \n",
       "Loan lenght                              \n",
       "1            10000.0  20000.0   50000.0  \n",
       "3             2000.0  10000.0  100000.0  \n",
       "6             3000.0   8000.0   92300.0  \n",
       "9             7500.0  20000.0  100000.0  \n",
       "12            1585.0  13750.0  150000.0  "
      ]
     },
     "execution_count": 127,
     "metadata": {},
     "output_type": "execute_result"
    }
   ],
   "source": [
    "df.groupby('Loan lenght').describe()"
   ]
  },
  {
   "cell_type": "code",
   "execution_count": 135,
   "id": "3920dccf",
   "metadata": {},
   "outputs": [
    {
     "data": {
      "text/html": [
       "<div>\n",
       "<style scoped>\n",
       "    .dataframe tbody tr th:only-of-type {\n",
       "        vertical-align: middle;\n",
       "    }\n",
       "\n",
       "    .dataframe tbody tr th {\n",
       "        vertical-align: top;\n",
       "    }\n",
       "\n",
       "    .dataframe thead th {\n",
       "        text-align: right;\n",
       "    }\n",
       "</style>\n",
       "<table border=\"1\" class=\"dataframe\">\n",
       "  <thead>\n",
       "    <tr style=\"text-align: right;\">\n",
       "      <th></th>\n",
       "      <th>P 1</th>\n",
       "    </tr>\n",
       "    <tr>\n",
       "      <th>Loan lenght</th>\n",
       "      <th></th>\n",
       "    </tr>\n",
       "  </thead>\n",
       "  <tbody>\n",
       "    <tr>\n",
       "      <th>1</th>\n",
       "      <td>Liquidity</td>\n",
       "    </tr>\n",
       "    <tr>\n",
       "      <th>3</th>\n",
       "      <td>Liquidity</td>\n",
       "    </tr>\n",
       "    <tr>\n",
       "      <th>6</th>\n",
       "      <td>[Liquidity, Yield]</td>\n",
       "    </tr>\n",
       "    <tr>\n",
       "      <th>9</th>\n",
       "      <td>Yield</td>\n",
       "    </tr>\n",
       "    <tr>\n",
       "      <th>12</th>\n",
       "      <td>Liquidity</td>\n",
       "    </tr>\n",
       "  </tbody>\n",
       "</table>\n",
       "</div>"
      ],
      "text/plain": [
       "                            P 1\n",
       "Loan lenght                    \n",
       "1                     Liquidity\n",
       "3                     Liquidity\n",
       "6            [Liquidity, Yield]\n",
       "9                         Yield\n",
       "12                    Liquidity"
      ]
     },
     "execution_count": 135,
     "metadata": {},
     "output_type": "execute_result"
    }
   ],
   "source": [
    "df.groupby('Loan lenght').agg(pd.Series.mode).drop(['Wish yield without CL', 'NEAR in MXN', 'P 2', 'P 3'], axis=1)"
   ]
  },
  {
   "cell_type": "markdown",
   "id": "fa66ebbe",
   "metadata": {},
   "source": [
    "## 1 month"
   ]
  },
  {
   "cell_type": "code",
   "execution_count": 71,
   "id": "c70c6865",
   "metadata": {},
   "outputs": [],
   "source": [
    "One_month=df[df['Loan lenght']==1]"
   ]
  },
  {
   "cell_type": "code",
   "execution_count": 72,
   "id": "55719ae4",
   "metadata": {},
   "outputs": [
    {
     "data": {
      "text/html": [
       "<div>\n",
       "<style scoped>\n",
       "    .dataframe tbody tr th:only-of-type {\n",
       "        vertical-align: middle;\n",
       "    }\n",
       "\n",
       "    .dataframe tbody tr th {\n",
       "        vertical-align: top;\n",
       "    }\n",
       "\n",
       "    .dataframe thead th {\n",
       "        text-align: right;\n",
       "    }\n",
       "</style>\n",
       "<table border=\"1\" class=\"dataframe\">\n",
       "  <thead>\n",
       "    <tr style=\"text-align: right;\">\n",
       "      <th></th>\n",
       "      <th>Wish yield without CL</th>\n",
       "      <th>NEAR in MXN</th>\n",
       "      <th>Loan lenght</th>\n",
       "    </tr>\n",
       "  </thead>\n",
       "  <tbody>\n",
       "    <tr>\n",
       "      <th>count</th>\n",
       "      <td>16.000000</td>\n",
       "      <td>16.000000</td>\n",
       "      <td>16.0</td>\n",
       "    </tr>\n",
       "    <tr>\n",
       "      <th>mean</th>\n",
       "      <td>0.812500</td>\n",
       "      <td>13906.250000</td>\n",
       "      <td>1.0</td>\n",
       "    </tr>\n",
       "    <tr>\n",
       "      <th>std</th>\n",
       "      <td>0.403113</td>\n",
       "      <td>12318.304469</td>\n",
       "      <td>0.0</td>\n",
       "    </tr>\n",
       "    <tr>\n",
       "      <th>min</th>\n",
       "      <td>0.000000</td>\n",
       "      <td>2000.000000</td>\n",
       "      <td>1.0</td>\n",
       "    </tr>\n",
       "    <tr>\n",
       "      <th>25%</th>\n",
       "      <td>1.000000</td>\n",
       "      <td>5000.000000</td>\n",
       "      <td>1.0</td>\n",
       "    </tr>\n",
       "    <tr>\n",
       "      <th>50%</th>\n",
       "      <td>1.000000</td>\n",
       "      <td>10000.000000</td>\n",
       "      <td>1.0</td>\n",
       "    </tr>\n",
       "    <tr>\n",
       "      <th>75%</th>\n",
       "      <td>1.000000</td>\n",
       "      <td>20000.000000</td>\n",
       "      <td>1.0</td>\n",
       "    </tr>\n",
       "    <tr>\n",
       "      <th>max</th>\n",
       "      <td>1.000000</td>\n",
       "      <td>50000.000000</td>\n",
       "      <td>1.0</td>\n",
       "    </tr>\n",
       "  </tbody>\n",
       "</table>\n",
       "</div>"
      ],
      "text/plain": [
       "       Wish yield without CL   NEAR in MXN  Loan lenght\n",
       "count              16.000000     16.000000         16.0\n",
       "mean                0.812500  13906.250000          1.0\n",
       "std                 0.403113  12318.304469          0.0\n",
       "min                 0.000000   2000.000000          1.0\n",
       "25%                 1.000000   5000.000000          1.0\n",
       "50%                 1.000000  10000.000000          1.0\n",
       "75%                 1.000000  20000.000000          1.0\n",
       "max                 1.000000  50000.000000          1.0"
      ]
     },
     "execution_count": 72,
     "metadata": {},
     "output_type": "execute_result"
    }
   ],
   "source": [
    "One_month.describe()"
   ]
  },
  {
   "cell_type": "code",
   "execution_count": 81,
   "id": "b7f6a172",
   "metadata": {},
   "outputs": [
    {
     "data": {
      "text/plain": [
       "{'Taxes': 0, 'Liquidity': 0, 'Yield': 0}"
      ]
     },
     "execution_count": 81,
     "metadata": {},
     "output_type": "execute_result"
    }
   ],
   "source": [
    "counter={item:0 for item in new_labels}\n",
    "counter"
   ]
  },
  {
   "cell_type": "code",
   "execution_count": 82,
   "id": "cfed4257",
   "metadata": {},
   "outputs": [],
   "source": [
    "for k in range(len(One_month)):\n",
    "    ctr_update(df.iloc[k,2],(4/7))\n",
    "    ctr_update(df.iloc[k,3],(2/7))\n",
    "    ctr_update(df.iloc[k,4],(1/7))"
   ]
  },
  {
   "cell_type": "code",
   "execution_count": 83,
   "id": "d60b235d",
   "metadata": {},
   "outputs": [
    {
     "data": {
      "text/plain": [
       "{'Taxes': 4.571428571428572,\n",
       " 'Liquidity': 5.999999999999998,\n",
       " 'Yield': 5.428571428571427}"
      ]
     },
     "execution_count": 83,
     "metadata": {},
     "output_type": "execute_result"
    }
   ],
   "source": [
    "counter"
   ]
  },
  {
   "cell_type": "code",
   "execution_count": 87,
   "id": "29dfcc70",
   "metadata": {},
   "outputs": [
    {
     "data": {
      "image/png": "[encoded data removed]",
      "text/plain": [
       "<Figure size 640x480 with 1 Axes>"
      ]
     },
     "metadata": {},
     "output_type": "display_data"
    }
   ],
   "source": [
    "import matplotlib.pyplot as plt\n",
    "\n",
    "colors = ['#ff9999','#66b3ff','#ffcc99']\n",
    "plt.pie(counter.values(), labels=counter.keys(),colors=colors,\n",
    "autopct='%1.2f%%', shadow=False, startangle=180)\n",
    "plt.title('Priorities - 1mth customers')\n",
    "plt.show()"
   ]
  },
  {
   "cell_type": "markdown",
   "id": "4c37dc01",
   "metadata": {},
   "source": [
    "## 3 months"
   ]
  },
  {
   "cell_type": "code",
   "execution_count": 90,
   "id": "efa00f49",
   "metadata": {},
   "outputs": [],
   "source": [
    "Three_mths=df[df['Loan lenght']==3]"
   ]
  },
  {
   "cell_type": "code",
   "execution_count": 91,
   "id": "0d999426",
   "metadata": {},
   "outputs": [
    {
     "data": {
      "text/html": [
       "<div>\n",
       "<style scoped>\n",
       "    .dataframe tbody tr th:only-of-type {\n",
       "        vertical-align: middle;\n",
       "    }\n",
       "\n",
       "    .dataframe tbody tr th {\n",
       "        vertical-align: top;\n",
       "    }\n",
       "\n",
       "    .dataframe thead th {\n",
       "        text-align: right;\n",
       "    }\n",
       "</style>\n",
       "<table border=\"1\" class=\"dataframe\">\n",
       "  <thead>\n",
       "    <tr style=\"text-align: right;\">\n",
       "      <th></th>\n",
       "      <th>Wish yield without CL</th>\n",
       "      <th>NEAR in MXN</th>\n",
       "      <th>Loan lenght</th>\n",
       "    </tr>\n",
       "  </thead>\n",
       "  <tbody>\n",
       "    <tr>\n",
       "      <th>count</th>\n",
       "      <td>25.000000</td>\n",
       "      <td>25.000000</td>\n",
       "      <td>25.0</td>\n",
       "    </tr>\n",
       "    <tr>\n",
       "      <th>mean</th>\n",
       "      <td>0.920000</td>\n",
       "      <td>11451.600000</td>\n",
       "      <td>3.0</td>\n",
       "    </tr>\n",
       "    <tr>\n",
       "      <th>std</th>\n",
       "      <td>0.276887</td>\n",
       "      <td>23056.131583</td>\n",
       "      <td>0.0</td>\n",
       "    </tr>\n",
       "    <tr>\n",
       "      <th>min</th>\n",
       "      <td>0.000000</td>\n",
       "      <td>5.000000</td>\n",
       "      <td>3.0</td>\n",
       "    </tr>\n",
       "    <tr>\n",
       "      <th>25%</th>\n",
       "      <td>1.000000</td>\n",
       "      <td>500.000000</td>\n",
       "      <td>3.0</td>\n",
       "    </tr>\n",
       "    <tr>\n",
       "      <th>50%</th>\n",
       "      <td>1.000000</td>\n",
       "      <td>2000.000000</td>\n",
       "      <td>3.0</td>\n",
       "    </tr>\n",
       "    <tr>\n",
       "      <th>75%</th>\n",
       "      <td>1.000000</td>\n",
       "      <td>10000.000000</td>\n",
       "      <td>3.0</td>\n",
       "    </tr>\n",
       "    <tr>\n",
       "      <th>max</th>\n",
       "      <td>1.000000</td>\n",
       "      <td>100000.000000</td>\n",
       "      <td>3.0</td>\n",
       "    </tr>\n",
       "  </tbody>\n",
       "</table>\n",
       "</div>"
      ],
      "text/plain": [
       "       Wish yield without CL    NEAR in MXN  Loan lenght\n",
       "count              25.000000      25.000000         25.0\n",
       "mean                0.920000   11451.600000          3.0\n",
       "std                 0.276887   23056.131583          0.0\n",
       "min                 0.000000       5.000000          3.0\n",
       "25%                 1.000000     500.000000          3.0\n",
       "50%                 1.000000    2000.000000          3.0\n",
       "75%                 1.000000   10000.000000          3.0\n",
       "max                 1.000000  100000.000000          3.0"
      ]
     },
     "execution_count": 91,
     "metadata": {},
     "output_type": "execute_result"
    }
   ],
   "source": [
    "Three_mths.describe()"
   ]
  },
  {
   "cell_type": "code",
   "execution_count": 93,
   "id": "2885ec03",
   "metadata": {},
   "outputs": [
    {
     "data": {
      "text/plain": [
       "{'Taxes': 0, 'Liquidity': 0, 'Yield': 0}"
      ]
     },
     "execution_count": 93,
     "metadata": {},
     "output_type": "execute_result"
    }
   ],
   "source": [
    "counter={item:0 for item in new_labels}\n",
    "counter"
   ]
  },
  {
   "cell_type": "code",
   "execution_count": 95,
   "id": "38e60ccd",
   "metadata": {},
   "outputs": [],
   "source": [
    "for k in range(len(Three_mths)):\n",
    "    ctr_update(df.iloc[k,2],(4/7))\n",
    "    ctr_update(df.iloc[k,3],(2/7))\n",
    "    ctr_update(df.iloc[k,4],(1/7))"
   ]
  },
  {
   "cell_type": "code",
   "execution_count": 96,
   "id": "c7ad4fd5",
   "metadata": {},
   "outputs": [
    {
     "data": {
      "text/plain": [
       "{'Taxes': 7.285714285714287,\n",
       " 'Liquidity': 9.285714285714283,\n",
       " 'Yield': 8.428571428571427}"
      ]
     },
     "execution_count": 96,
     "metadata": {},
     "output_type": "execute_result"
    }
   ],
   "source": [
    "counter"
   ]
  },
  {
   "cell_type": "code",
   "execution_count": 97,
   "id": "90137b74",
   "metadata": {},
   "outputs": [
    {
     "data": {
      "image/png": "[encoded data removed]",
      "text/plain": [
       "<Figure size 640x480 with 1 Axes>"
      ]
     },
     "metadata": {},
     "output_type": "display_data"
    }
   ],
   "source": [
    "import matplotlib.pyplot as plt\n",
    "\n",
    "colors = ['#ff9999','#66b3ff','#ffcc99']\n",
    "plt.pie(counter.values(), labels=counter.keys(),colors=colors,\n",
    "autopct='%1.2f%%', shadow=False, startangle=180)\n",
    "plt.title('Priorities - 3mths customers')\n",
    "plt.show()"
   ]
  },
  {
   "cell_type": "markdown",
   "id": "c59dabb8",
   "metadata": {},
   "source": [
    "## 6 months"
   ]
  },
  {
   "cell_type": "code",
   "execution_count": 113,
   "id": "f8a73200",
   "metadata": {},
   "outputs": [],
   "source": [
    "Six_mths=df[df['Loan lenght']==6]"
   ]
  },
  {
   "cell_type": "code",
   "execution_count": null,
   "id": "807f77b9",
   "metadata": {},
   "outputs": [],
   "source": []
  },
  {
   "cell_type": "code",
   "execution_count": 114,
   "id": "420dc594",
   "metadata": {},
   "outputs": [
    {
     "data": {
      "text/html": [
       "<div>\n",
       "<style scoped>\n",
       "    .dataframe tbody tr th:only-of-type {\n",
       "        vertical-align: middle;\n",
       "    }\n",
       "\n",
       "    .dataframe tbody tr th {\n",
       "        vertical-align: top;\n",
       "    }\n",
       "\n",
       "    .dataframe thead th {\n",
       "        text-align: right;\n",
       "    }\n",
       "</style>\n",
       "<table border=\"1\" class=\"dataframe\">\n",
       "  <thead>\n",
       "    <tr style=\"text-align: right;\">\n",
       "      <th></th>\n",
       "      <th>Wish yield without CL</th>\n",
       "      <th>NEAR in MXN</th>\n",
       "      <th>Loan lenght</th>\n",
       "    </tr>\n",
       "  </thead>\n",
       "  <tbody>\n",
       "    <tr>\n",
       "      <th>count</th>\n",
       "      <td>43.000000</td>\n",
       "      <td>43.000000</td>\n",
       "      <td>43.0</td>\n",
       "    </tr>\n",
       "    <tr>\n",
       "      <th>mean</th>\n",
       "      <td>0.930233</td>\n",
       "      <td>9564.883721</td>\n",
       "      <td>6.0</td>\n",
       "    </tr>\n",
       "    <tr>\n",
       "      <th>std</th>\n",
       "      <td>0.257770</td>\n",
       "      <td>17672.039575</td>\n",
       "      <td>0.0</td>\n",
       "    </tr>\n",
       "    <tr>\n",
       "      <th>min</th>\n",
       "      <td>0.000000</td>\n",
       "      <td>50.000000</td>\n",
       "      <td>6.0</td>\n",
       "    </tr>\n",
       "    <tr>\n",
       "      <th>25%</th>\n",
       "      <td>1.000000</td>\n",
       "      <td>1000.000000</td>\n",
       "      <td>6.0</td>\n",
       "    </tr>\n",
       "    <tr>\n",
       "      <th>50%</th>\n",
       "      <td>1.000000</td>\n",
       "      <td>3000.000000</td>\n",
       "      <td>6.0</td>\n",
       "    </tr>\n",
       "    <tr>\n",
       "      <th>75%</th>\n",
       "      <td>1.000000</td>\n",
       "      <td>8000.000000</td>\n",
       "      <td>6.0</td>\n",
       "    </tr>\n",
       "    <tr>\n",
       "      <th>max</th>\n",
       "      <td>1.000000</td>\n",
       "      <td>92300.000000</td>\n",
       "      <td>6.0</td>\n",
       "    </tr>\n",
       "  </tbody>\n",
       "</table>\n",
       "</div>"
      ],
      "text/plain": [
       "       Wish yield without CL   NEAR in MXN  Loan lenght\n",
       "count              43.000000     43.000000         43.0\n",
       "mean                0.930233   9564.883721          6.0\n",
       "std                 0.257770  17672.039575          0.0\n",
       "min                 0.000000     50.000000          6.0\n",
       "25%                 1.000000   1000.000000          6.0\n",
       "50%                 1.000000   3000.000000          6.0\n",
       "75%                 1.000000   8000.000000          6.0\n",
       "max                 1.000000  92300.000000          6.0"
      ]
     },
     "execution_count": 114,
     "metadata": {},
     "output_type": "execute_result"
    }
   ],
   "source": [
    "Six_mths.describe()"
   ]
  },
  {
   "cell_type": "code",
   "execution_count": 115,
   "id": "ca770657",
   "metadata": {},
   "outputs": [
    {
     "data": {
      "text/plain": [
       "{'Taxes': 0, 'Liquidity': 0, 'Yield': 0}"
      ]
     },
     "execution_count": 115,
     "metadata": {},
     "output_type": "execute_result"
    }
   ],
   "source": [
    "counter={item:0 for item in new_labels}\n",
    "counter"
   ]
  },
  {
   "cell_type": "code",
   "execution_count": 116,
   "id": "790eb023",
   "metadata": {},
   "outputs": [],
   "source": [
    "for k in range(len(Six_mths)):\n",
    "    ctr_update(df.iloc[k,2],(4/7))\n",
    "    ctr_update(df.iloc[k,3],(2/7))\n",
    "    ctr_update(df.iloc[k,4],(1/7))"
   ]
  },
  {
   "cell_type": "code",
   "execution_count": 117,
   "id": "e17ee9ee",
   "metadata": {},
   "outputs": [
    {
     "data": {
      "text/plain": [
       "{'Taxes': 11.857142857142856,\n",
       " 'Liquidity': 16.57142857142857,\n",
       " 'Yield': 14.571428571428571}"
      ]
     },
     "execution_count": 117,
     "metadata": {},
     "output_type": "execute_result"
    }
   ],
   "source": [
    "counter"
   ]
  },
  {
   "cell_type": "code",
   "execution_count": 119,
   "id": "0bde6b77",
   "metadata": {},
   "outputs": [
    {
     "data": {
      "image/png": "[encoded data removed]",
      "text/plain": [
       "<Figure size 640x480 with 1 Axes>"
      ]
     },
     "metadata": {},
     "output_type": "display_data"
    }
   ],
   "source": [
    "import matplotlib.pyplot as plt\n",
    "\n",
    "colors = ['#ff9999','#66b3ff','#ffcc99']\n",
    "plt.pie(counter.values(), labels=counter.keys(),colors=colors,\n",
    "autopct='%1.2f%%', shadow=False, startangle=180)\n",
    "plt.title('Priorities - 6mths customers')\n",
    "plt.show()"
   ]
  },
  {
   "cell_type": "markdown",
   "id": "0e6e6507",
   "metadata": {},
   "source": [
    "## 12 months"
   ]
  },
  {
   "cell_type": "code",
   "execution_count": 120,
   "id": "ecb74c75",
   "metadata": {},
   "outputs": [],
   "source": [
    "Tlv_mths=df[df['Loan lenght']==12]"
   ]
  },
  {
   "cell_type": "code",
   "execution_count": 121,
   "id": "b35652c2",
   "metadata": {},
   "outputs": [
    {
     "data": {
      "text/html": [
       "<div>\n",
       "<style scoped>\n",
       "    .dataframe tbody tr th:only-of-type {\n",
       "        vertical-align: middle;\n",
       "    }\n",
       "\n",
       "    .dataframe tbody tr th {\n",
       "        vertical-align: top;\n",
       "    }\n",
       "\n",
       "    .dataframe thead th {\n",
       "        text-align: right;\n",
       "    }\n",
       "</style>\n",
       "<table border=\"1\" class=\"dataframe\">\n",
       "  <thead>\n",
       "    <tr style=\"text-align: right;\">\n",
       "      <th></th>\n",
       "      <th>Wish yield without CL</th>\n",
       "      <th>NEAR in MXN</th>\n",
       "      <th>Loan lenght</th>\n",
       "    </tr>\n",
       "  </thead>\n",
       "  <tbody>\n",
       "    <tr>\n",
       "      <th>count</th>\n",
       "      <td>34.000000</td>\n",
       "      <td>34.000000</td>\n",
       "      <td>34.0</td>\n",
       "    </tr>\n",
       "    <tr>\n",
       "      <th>mean</th>\n",
       "      <td>0.823529</td>\n",
       "      <td>17085.882353</td>\n",
       "      <td>12.0</td>\n",
       "    </tr>\n",
       "    <tr>\n",
       "      <th>std</th>\n",
       "      <td>0.386953</td>\n",
       "      <td>37030.822798</td>\n",
       "      <td>0.0</td>\n",
       "    </tr>\n",
       "    <tr>\n",
       "      <th>min</th>\n",
       "      <td>0.000000</td>\n",
       "      <td>0.000000</td>\n",
       "      <td>12.0</td>\n",
       "    </tr>\n",
       "    <tr>\n",
       "      <th>25%</th>\n",
       "      <td>1.000000</td>\n",
       "      <td>625.000000</td>\n",
       "      <td>12.0</td>\n",
       "    </tr>\n",
       "    <tr>\n",
       "      <th>50%</th>\n",
       "      <td>1.000000</td>\n",
       "      <td>1585.000000</td>\n",
       "      <td>12.0</td>\n",
       "    </tr>\n",
       "    <tr>\n",
       "      <th>75%</th>\n",
       "      <td>1.000000</td>\n",
       "      <td>13750.000000</td>\n",
       "      <td>12.0</td>\n",
       "    </tr>\n",
       "    <tr>\n",
       "      <th>max</th>\n",
       "      <td>1.000000</td>\n",
       "      <td>150000.000000</td>\n",
       "      <td>12.0</td>\n",
       "    </tr>\n",
       "  </tbody>\n",
       "</table>\n",
       "</div>"
      ],
      "text/plain": [
       "       Wish yield without CL    NEAR in MXN  Loan lenght\n",
       "count              34.000000      34.000000         34.0\n",
       "mean                0.823529   17085.882353         12.0\n",
       "std                 0.386953   37030.822798          0.0\n",
       "min                 0.000000       0.000000         12.0\n",
       "25%                 1.000000     625.000000         12.0\n",
       "50%                 1.000000    1585.000000         12.0\n",
       "75%                 1.000000   13750.000000         12.0\n",
       "max                 1.000000  150000.000000         12.0"
      ]
     },
     "execution_count": 121,
     "metadata": {},
     "output_type": "execute_result"
    }
   ],
   "source": [
    "Tlv_mths.describe()"
   ]
  },
  {
   "cell_type": "code",
   "execution_count": 122,
   "id": "11c84625",
   "metadata": {},
   "outputs": [
    {
     "data": {
      "text/plain": [
       "{'Taxes': 0, 'Liquidity': 0, 'Yield': 0}"
      ]
     },
     "execution_count": 122,
     "metadata": {},
     "output_type": "execute_result"
    }
   ],
   "source": [
    "counter={item:0 for item in new_labels}\n",
    "counter"
   ]
  },
  {
   "cell_type": "code",
   "execution_count": 123,
   "id": "b2f61a8e",
   "metadata": {},
   "outputs": [],
   "source": [
    "for k in range(len(Tlv_mths)):\n",
    "    ctr_update(df.iloc[k,2],(4/7))\n",
    "    ctr_update(df.iloc[k,3],(2/7))\n",
    "    ctr_update(df.iloc[k,4],(1/7))"
   ]
  },
  {
   "cell_type": "code",
   "execution_count": 124,
   "id": "5037a56b",
   "metadata": {},
   "outputs": [
    {
     "data": {
      "text/plain": [
       "{'Taxes': 10.000000000000002,\n",
       " 'Liquidity': 12.285714285714283,\n",
       " 'Yield': 11.714285714285712}"
      ]
     },
     "execution_count": 124,
     "metadata": {},
     "output_type": "execute_result"
    }
   ],
   "source": [
    "counter"
   ]
  },
  {
   "cell_type": "code",
   "execution_count": 125,
   "id": "df4dffb6",
   "metadata": {},
   "outputs": [
    {
     "data": {
      "image/png": "[encoded data removed]",
      "text/plain": [
       "<Figure size 640x480 with 1 Axes>"
      ]
     },
     "metadata": {},
     "output_type": "display_data"
    }
   ],
   "source": [
    "import matplotlib.pyplot as plt\n",
    "\n",
    "colors = ['#ff9999','#66b3ff','#ffcc99']\n",
    "plt.pie(counter.values(), labels=counter.keys(),colors=colors,\n",
    "autopct='%1.2f%%', shadow=False, startangle=180)\n",
    "plt.title('Priorities - 12mths customers')\n",
    "plt.show()"
   ]
  },
  {
   "cell_type": "markdown",
   "id": "60e7ed07",
   "metadata": {},
   "source": [
    "# CORRELATION MATRIX"
   ]
  },
  {
   "cell_type": "markdown",
   "id": "7ec4962d",
   "metadata": {},
   "source": [
    "In this section we'll rescale (logarithm function) the 'Near' amounts since the behavior of the amounts is 'pareto-like'.\n",
    "Then we'll standarize the 'Near' deposits and then perform a 'One Hot Encoding' to the 'Priorities' variables.\n",
    "\n",
    "This should improve the overall quality of the data analysis."
   ]
  },
  {
   "cell_type": "code",
   "execution_count": 61,
   "id": "47cbf9cd",
   "metadata": {},
   "outputs": [],
   "source": [
    "df2=df.copy()\n",
    "df2.drop(['P 2','P 3'],axis=1, inplace=True)"
   ]
  },
  {
   "cell_type": "code",
   "execution_count": 62,
   "id": "5f3a451f",
   "metadata": {},
   "outputs": [],
   "source": [
    "df2['NEAR in MXN']=df2['NEAR in MXN']+0.5\n",
    "## log(0) derives in NaN values"
   ]
  },
  {
   "cell_type": "code",
   "execution_count": 63,
   "id": "be052d1a",
   "metadata": {},
   "outputs": [],
   "source": [
    "df2['Log NEAR']=np.log(df2['NEAR in MXN'])\n",
    "df2.drop('NEAR in MXN', axis=1, inplace=True)"
   ]
  },
  {
   "cell_type": "code",
   "execution_count": 65,
   "id": "21ed3d4b",
   "metadata": {},
   "outputs": [],
   "source": [
    "from sklearn.preprocessing import StandardScaler\n",
    "\n",
    "scaler = StandardScaler()\n",
    "scaler.fit(df2[['Log NEAR']])\n",
    "df2['Std Log NEAR'] = scaler.transform(df2[['Log NEAR']])\n",
    "df2.drop('Log NEAR', inplace=True, axis=1)"
   ]
  },
  {
   "cell_type": "code",
   "execution_count": 66,
   "id": "00dfa063",
   "metadata": {},
   "outputs": [
    {
     "data": {
      "text/html": [
       "<div>\n",
       "<style scoped>\n",
       "    .dataframe tbody tr th:only-of-type {\n",
       "        vertical-align: middle;\n",
       "    }\n",
       "\n",
       "    .dataframe tbody tr th {\n",
       "        vertical-align: top;\n",
       "    }\n",
       "\n",
       "    .dataframe thead th {\n",
       "        text-align: right;\n",
       "    }\n",
       "</style>\n",
       "<table border=\"1\" class=\"dataframe\">\n",
       "  <thead>\n",
       "    <tr style=\"text-align: right;\">\n",
       "      <th></th>\n",
       "      <th>Wish yield without CL</th>\n",
       "      <th>Loan lenght</th>\n",
       "      <th>Std Log NEAR</th>\n",
       "      <th>P 1_Liquidity</th>\n",
       "      <th>P 1_Taxes</th>\n",
       "      <th>P 1_Yield</th>\n",
       "    </tr>\n",
       "  </thead>\n",
       "  <tbody>\n",
       "    <tr>\n",
       "      <th>0</th>\n",
       "      <td>1</td>\n",
       "      <td>1</td>\n",
       "      <td>0.812141</td>\n",
       "      <td>0</td>\n",
       "      <td>1</td>\n",
       "      <td>0</td>\n",
       "    </tr>\n",
       "    <tr>\n",
       "      <th>1</th>\n",
       "      <td>1</td>\n",
       "      <td>12</td>\n",
       "      <td>-0.299794</td>\n",
       "      <td>1</td>\n",
       "      <td>0</td>\n",
       "      <td>0</td>\n",
       "    </tr>\n",
       "    <tr>\n",
       "      <th>2</th>\n",
       "      <td>1</td>\n",
       "      <td>6</td>\n",
       "      <td>0.265724</td>\n",
       "      <td>0</td>\n",
       "      <td>0</td>\n",
       "      <td>1</td>\n",
       "    </tr>\n",
       "    <tr>\n",
       "      <th>3</th>\n",
       "      <td>1</td>\n",
       "      <td>12</td>\n",
       "      <td>1.863566</td>\n",
       "      <td>0</td>\n",
       "      <td>1</td>\n",
       "      <td>0</td>\n",
       "    </tr>\n",
       "    <tr>\n",
       "      <th>4</th>\n",
       "      <td>0</td>\n",
       "      <td>12</td>\n",
       "      <td>-0.815611</td>\n",
       "      <td>0</td>\n",
       "      <td>1</td>\n",
       "      <td>0</td>\n",
       "    </tr>\n",
       "    <tr>\n",
       "      <th>...</th>\n",
       "      <td>...</td>\n",
       "      <td>...</td>\n",
       "      <td>...</td>\n",
       "      <td>...</td>\n",
       "      <td>...</td>\n",
       "      <td>...</td>\n",
       "    </tr>\n",
       "    <tr>\n",
       "      <th>121</th>\n",
       "      <td>1</td>\n",
       "      <td>6</td>\n",
       "      <td>0.351371</td>\n",
       "      <td>1</td>\n",
       "      <td>0</td>\n",
       "      <td>0</td>\n",
       "    </tr>\n",
       "    <tr>\n",
       "      <th>122</th>\n",
       "      <td>1</td>\n",
       "      <td>3</td>\n",
       "      <td>0.265724</td>\n",
       "      <td>1</td>\n",
       "      <td>0</td>\n",
       "      <td>0</td>\n",
       "    </tr>\n",
       "    <tr>\n",
       "      <th>123</th>\n",
       "      <td>1</td>\n",
       "      <td>3</td>\n",
       "      <td>1.347439</td>\n",
       "      <td>1</td>\n",
       "      <td>0</td>\n",
       "      <td>0</td>\n",
       "    </tr>\n",
       "    <tr>\n",
       "      <th>124</th>\n",
       "      <td>1</td>\n",
       "      <td>1</td>\n",
       "      <td>1.021802</td>\n",
       "      <td>0</td>\n",
       "      <td>1</td>\n",
       "      <td>0</td>\n",
       "    </tr>\n",
       "    <tr>\n",
       "      <th>125</th>\n",
       "      <td>1</td>\n",
       "      <td>6</td>\n",
       "      <td>1.635435</td>\n",
       "      <td>1</td>\n",
       "      <td>0</td>\n",
       "      <td>0</td>\n",
       "    </tr>\n",
       "  </tbody>\n",
       "</table>\n",
       "<p>126 rows × 6 columns</p>\n",
       "</div>"
      ],
      "text/plain": [
       "     Wish yield without CL  Loan lenght  Std Log NEAR  P 1_Liquidity  \\\n",
       "0                        1            1      0.812141              0   \n",
       "1                        1           12     -0.299794              1   \n",
       "2                        1            6      0.265724              0   \n",
       "3                        1           12      1.863566              0   \n",
       "4                        0           12     -0.815611              0   \n",
       "..                     ...          ...           ...            ...   \n",
       "121                      1            6      0.351371              1   \n",
       "122                      1            3      0.265724              1   \n",
       "123                      1            3      1.347439              1   \n",
       "124                      1            1      1.021802              0   \n",
       "125                      1            6      1.635435              1   \n",
       "\n",
       "     P 1_Taxes  P 1_Yield  \n",
       "0            1          0  \n",
       "1            0          0  \n",
       "2            0          1  \n",
       "3            1          0  \n",
       "4            1          0  \n",
       "..         ...        ...  \n",
       "121          0          0  \n",
       "122          0          0  \n",
       "123          0          0  \n",
       "124          1          0  \n",
       "125          0          0  \n",
       "\n",
       "[126 rows x 6 columns]"
      ]
     },
     "execution_count": 66,
     "metadata": {},
     "output_type": "execute_result"
    }
   ],
   "source": [
    "# Perform one-hot encoding on all columns\n",
    "one_hot = pd.get_dummies(df2, columns=['P 1'], drop_first=False)\n",
    "one_hot"
   ]
  },
  {
   "cell_type": "code",
   "execution_count": 67,
   "id": "5ee9e46d",
   "metadata": {},
   "outputs": [
    {
     "data": {
      "image/png": "[encoded data removed]",
      "text/plain": [
       "<Figure size 640x480 with 2 Axes>"
      ]
     },
     "metadata": {},
     "output_type": "display_data"
    }
   ],
   "source": [
    "sns.heatmap(one_hot.corr(),annot=True );"
   ]
  },
  {
   "cell_type": "markdown",
   "id": "1d3337cb",
   "metadata": {},
   "source": [
    "# FINAL REMARKS"
   ]
  },
  {
   "cell_type": "markdown",
   "id": "2a4bee77",
   "metadata": {},
   "source": [
    "1. By clustering customers through different criteria, they show that their greatest appetite is for liquidity.\n",
    "2. The holders are not that much concerned in 'Taxes', there's a negative 0.2 lineal correlation between the desire to accumulate (staking) yield against the desire to optimize taxes.\n",
    "3. Liquidity and yield are strongly negatively correlated (-0.68).\n",
    "4. It cannot be said that customers are segmented by purchasing power, the correlations are close to zero. After  rescaling and standardization, correlation is still minuscule.\n",
    "5. Respondents with NEAR tokens show a heavy-tailed distribution (and positive bias) with respect to deposits."
   ]
  }
 ],
 "metadata": {
  "kernelspec": {
   "display_name": "Python 3 (ipykernel)",
   "language": "python",
   "name": "python3"
  },
  "language_info": {
   "codemirror_mode": {
    "name": "ipython",
    "version": 3
   },
   "file_extension": ".py",
   "mimetype": "text/x-python",
   "name": "python",
   "nbconvert_exporter": "python",
   "pygments_lexer": "ipython3",
   "version": "3.10.8"
  }
 },
 "nbformat": 4,
 "nbformat_minor": 5
}
